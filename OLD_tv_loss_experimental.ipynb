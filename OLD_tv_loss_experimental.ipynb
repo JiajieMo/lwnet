{
 "cells": [
  {
   "cell_type": "code",
   "execution_count": 1,
   "metadata": {},
   "outputs": [],
   "source": [
    "import os\n",
    "import os.path as osp\n",
    "from PIL import Image\n",
    "import pandas as pd\n",
    "from sklearn.model_selection import train_test_split\n",
    "import matplotlib.pyplot as plt\n",
    "import numpy as np\n",
    "%load_ext autoreload\n",
    "%autoreload 2\n",
    "from skimage.io import imsave, imread\n",
    "from skimage import img_as_ubyte, img_as_float\n",
    "import sys\n",
    "# sys.path.insert(0, '../utils')\n"
   ]
  },
  {
   "cell_type": "code",
   "execution_count": 2,
   "metadata": {},
   "outputs": [],
   "source": [
    "def imshow_pair(im, gdt, vmin1=None, vmax1=None, vmin2=None, vmax2=None):\n",
    "    f, ax = plt.subplots(1, 2, figsize=(8,4))\n",
    "    np_im = np.asarray(im)\n",
    "    np_gdt = np.asarray(gdt)\n",
    "    if len(np_im.shape) == 2:\n",
    "        if vmin1==None:\n",
    "            ax[0].imshow(np_im, cmap='gray'),  ax[0].axis('off')\n",
    "        else:\n",
    "            ax[0].imshow(np_im, cmap='gray', vmin=vmin1, vmax=vmax1),  ax[0].axis('off')\n",
    "    else:\n",
    "        ax[0].imshow(np_im),  ax[0].axis('off')\n",
    "    if len(np_gdt.shape) == 2:\n",
    "        if vmin2==None:\n",
    "            ax[1].imshow(np.asarray(gdt), cmap = 'gray'), ax[1].axis('off')\n",
    "        else:\n",
    "            ax[1].imshow(np.asarray(gdt), cmap = 'gray', vmin=vmin2, vmax=vmax2), ax[1].axis('off')\n",
    "    else:\n",
    "        ax[1].imshow(np.asarray(gdt)), ax[1].axis('off')\n",
    "    plt.tight_layout()"
   ]
  },
  {
   "cell_type": "code",
   "execution_count": 3,
   "metadata": {},
   "outputs": [],
   "source": [
    "import torch\n",
    "import torchvision.transforms as tr\n",
    "from utils.get_loaders import get_train_val_loaders\n",
    "from models.get_model import get_arch"
   ]
  },
  {
   "cell_type": "code",
   "execution_count": 4,
   "metadata": {},
   "outputs": [],
   "source": [
    "csv_train = 'data/DRIVE/train_av.csv'\n",
    "csv_val = csv_train.replace('train', 'val')"
   ]
  },
  {
   "cell_type": "code",
   "execution_count": 5,
   "metadata": {},
   "outputs": [],
   "source": [
    "n_classes=4\n",
    "label_values=[0, 85, 170, 255]"
   ]
  },
  {
   "cell_type": "code",
   "execution_count": 6,
   "metadata": {},
   "outputs": [],
   "source": [
    "train_loader, val_loader = get_train_val_loaders(csv_path_train=csv_train, \n",
    "                                                 csv_path_val=csv_val, \n",
    "                                                 batch_size=2, tg_size=(512,512), \n",
    "                                                 label_values=label_values, num_workers=8)"
   ]
  },
  {
   "cell_type": "code",
   "execution_count": 7,
   "metadata": {},
   "outputs": [
    {
     "name": "stdout",
     "output_type": "stream",
     "text": [
      "* Instantiating a wnet model\n"
     ]
    }
   ],
   "source": [
    "print('* Instantiating a {} model'.format('wnet'))\n",
    "model = get_arch('big_wnet', n_classes=n_classes)"
   ]
  },
  {
   "cell_type": "code",
   "execution_count": 8,
   "metadata": {},
   "outputs": [],
   "source": [
    "from utils.model_saving_loading import load_model\n",
    "model, stats = load_model(model, 'experiments/big_wnet_drive_av/', 'cpu')"
   ]
  },
  {
   "cell_type": "code",
   "execution_count": 9,
   "metadata": {},
   "outputs": [],
   "source": [
    "criterion = torch.nn.CrossEntropyLoss(reduction='none')"
   ]
  },
  {
   "cell_type": "code",
   "execution_count": 10,
   "metadata": {},
   "outputs": [],
   "source": [
    "(inputs, labels) = next(iter(val_loader))"
   ]
  },
  {
   "cell_type": "code",
   "execution_count": 11,
   "metadata": {},
   "outputs": [],
   "source": [
    "from torch.nn import functional as F"
   ]
  },
  {
   "cell_type": "code",
   "execution_count": 12,
   "metadata": {},
   "outputs": [],
   "source": [
    "logits_aux, logits = model(inputs)\n",
    "probs = torch.nn.Softmax(dim=1)(logits).detach()"
   ]
  },
  {
   "cell_type": "code",
   "execution_count": 13,
   "metadata": {},
   "outputs": [
    {
     "data": {
      "image/png": "[encoded data removed]",
      "text/plain": [
       "<Figure size 576x288 with 2 Axes>"
      ]
     },
     "metadata": {
      "needs_background": "light"
     },
     "output_type": "display_data"
    },
    {
     "data": {
      "image/png": "[encoded data removed]",
      "text/plain": [
       "<Figure size 576x288 with 2 Axes>"
      ]
     },
     "metadata": {
      "needs_background": "light"
     },
     "output_type": "display_data"
    }
   ],
   "source": [
    "# we would like our probabilities to be constant along structures (ideally always 1!), but they are not:\n",
    "imshow_pair(probs[0,0,400:450,300:350], probs[0,1,400:450,300:350], vmin1=0, vmax1=1, vmin2=0, vmax2=1)\n",
    "imshow_pair(probs[0,2,400:450,300:350], probs[0,3,400:450,300:350], vmin1=0, vmax1=1, vmin2=0, vmax2=1)"
   ]
  },
  {
   "cell_type": "code",
   "execution_count": 14,
   "metadata": {},
   "outputs": [],
   "source": [
    "perfect_logits = 100*torch.stack([(labels==0),(labels==1),(labels==2),(labels==3)],dim=1).float()\n",
    "perfect_probs = torch.nn.Softmax(dim=1)(perfect_logits)"
   ]
  },
  {
   "cell_type": "code",
   "execution_count": 15,
   "metadata": {},
   "outputs": [
    {
     "data": {
      "image/png": "[encoded data removed]",
      "text/plain": [
       "<Figure size 576x288 with 2 Axes>"
      ]
     },
     "metadata": {
      "needs_background": "light"
     },
     "output_type": "display_data"
    },
    {
     "data": {
      "image/png": "[encoded data removed]",
      "text/plain": [
       "<Figure size 576x288 with 2 Axes>"
      ]
     },
     "metadata": {
      "needs_background": "light"
     },
     "output_type": "display_data"
    }
   ],
   "source": [
    "# this is the way ideal probabilities look\n",
    "imshow_pair(perfect_probs[0,0,400:450,300:350], perfect_probs[0,1,400:450,300:350])\n",
    "imshow_pair(perfect_probs[0,2,400:450,300:350], perfect_probs[0,3,400:450,300:350])"
   ]
  },
  {
   "cell_type": "code",
   "execution_count": 18,
   "metadata": {},
   "outputs": [],
   "source": [
    "ignore_map = torch.stack([labels == 0, labels == 1, labels == 2, labels == 3], dim=1)\n",
    "error_map = torch.abs(probs-ignore_map.float()).le(0.5)"
   ]
  },
  {
   "cell_type": "code",
   "execution_count": 19,
   "metadata": {},
   "outputs": [
    {
     "data": {
      "image/png": "[encoded data removed]",
      "text/plain": [
       "<Figure size 576x288 with 2 Axes>"
      ]
     },
     "metadata": {
      "needs_background": "light"
     },
     "output_type": "display_data"
    },
    {
     "data": {
      "image/png": "[encoded data removed]",
      "text/plain": [
       "<Figure size 576x288 with 2 Axes>"
      ]
     },
     "metadata": {
      "needs_background": "light"
     },
     "output_type": "display_data"
    },
    {
     "data": {
      "image/png": "[encoded data removed]",
      "text/plain": [
       "<Figure size 576x288 with 2 Axes>"
      ]
     },
     "metadata": {
      "needs_background": "light"
     },
     "output_type": "display_data"
    },
    {
     "data": {
      "image/png": "[encoded data removed]",
      "text/plain": [
       "<Figure size 576x288 with 2 Axes>"
      ]
     },
     "metadata": {
      "needs_background": "light"
     },
     "output_type": "display_data"
    }
   ],
   "source": [
    "imshow_pair(probs[0,0,400:450,300:350], error_map[0,0,400:450,300:350], vmin1=0, vmax1=1, vmin2=0, vmax2=1)\n",
    "imshow_pair(probs[0,1,400:450,300:350], error_map[0,1,400:450,300:350], vmin1=0, vmax1=1, vmin2=0, vmax2=1)\n",
    "imshow_pair(probs[0,2,400:450,300:350], error_map[0,2,400:450,300:350], vmin1=0, vmax1=1, vmin2=0, vmax2=1)\n",
    "imshow_pair(probs[0,3,400:450,300:350], error_map[0,3,400:450,300:350], vmin1=0, vmax1=1, vmin2=0, vmax2=1)"
   ]
  },
  {
   "cell_type": "markdown",
   "metadata": {},
   "source": [
    "Let us start with left-to-right variations of intensity:"
   ]
  },
  {
   "cell_type": "code",
   "execution_count": 20,
   "metadata": {},
   "outputs": [
    {
     "data": {
      "text/plain": [
       "tensor([[1, 1, 1, 0, 0],\n",
       "        [0, 0, 0, 1, 1]])"
      ]
     },
     "execution_count": 20,
     "metadata": {},
     "output_type": "execute_result"
    }
   ],
   "source": [
    "# row 1: bright to dark, row 2: dark to bright\n",
    "x = torch.tensor([1, 1, 1, 0, 0, 0, 0, 0, 1, 1]).view(2, 5)\n",
    "x"
   ]
  },
  {
   "cell_type": "code",
   "execution_count": 21,
   "metadata": {},
   "outputs": [
    {
     "data": {
      "text/plain": [
       "tensor([[1, 1, 0, 0, 1],\n",
       "        [0, 0, 1, 1, 0]])"
      ]
     },
     "execution_count": 21,
     "metadata": {},
     "output_type": "execute_result"
    }
   ],
   "source": [
    "torch.roll(x, shifts=-1, dims=-1) # xi,j+1"
   ]
  },
  {
   "cell_type": "code",
   "execution_count": 22,
   "metadata": {},
   "outputs": [
    {
     "data": {
      "text/plain": [
       "tensor([[ 0,  0,  1,  0, -1],\n",
       "        [ 0,  0, -1,  0,  1]])"
      ]
     },
     "execution_count": 22,
     "metadata": {},
     "output_type": "execute_result"
    }
   ],
   "source": [
    "# xi,j - xi,j+1 (horizontal gradient)\n",
    "# bright to dark: high pos values\n",
    "# dark to bright: high neg values\n",
    "x-torch.roll(x, shifts=-1, dims=-1)"
   ]
  },
  {
   "cell_type": "code",
   "execution_count": 23,
   "metadata": {},
   "outputs": [
    {
     "data": {
      "text/plain": [
       "tensor([[0, 1, 1, 1, 0],\n",
       "        [1, 0, 0, 0, 1]])"
      ]
     },
     "execution_count": 23,
     "metadata": {},
     "output_type": "execute_result"
    }
   ],
   "source": [
    "torch.roll(x, shifts=1, dims=-1) # xi,j-1"
   ]
  },
  {
   "cell_type": "code",
   "execution_count": 24,
   "metadata": {},
   "outputs": [
    {
     "data": {
      "text/plain": [
       "tensor([[ 1,  0,  0, -1,  0],\n",
       "        [-1,  0,  0,  1,  0]])"
      ]
     },
     "execution_count": 24,
     "metadata": {},
     "output_type": "execute_result"
    }
   ],
   "source": [
    "# xi,j - xi,j-1 (horizontal gradient)\n",
    "# bright to dark: high neg values\n",
    "# dark to bright: high pos values\n",
    "x-torch.roll(x, shifts=1, dims=-1)"
   ]
  },
  {
   "cell_type": "code",
   "execution_count": 25,
   "metadata": {},
   "outputs": [
    {
     "data": {
      "text/plain": [
       "(tensor([[0, 0, 1, 0, 1],\n",
       "         [0, 0, 1, 0, 1]]),\n",
       " tensor([[1, 0, 0, 1, 0],\n",
       "         [1, 0, 0, 1, 0]]))"
      ]
     },
     "execution_count": 25,
     "metadata": {},
     "output_type": "execute_result"
    }
   ],
   "source": [
    "torch.abs(x-torch.roll(x, shifts=-1, dims=-1)), torch.abs(x-torch.roll(x, shifts=1, dims=-1))"
   ]
  },
  {
   "cell_type": "code",
   "execution_count": 26,
   "metadata": {},
   "outputs": [
    {
     "data": {
      "text/plain": [
       "tensor([[1, 0, 1, 0, 0],\n",
       "        [0, 0, 0, 1, 1]])"
      ]
     },
     "execution_count": 26,
     "metadata": {},
     "output_type": "execute_result"
    }
   ],
   "source": [
    "# this gets us a high pos value in bright to dark and dark to bright jumps only\n",
    "torch.max(x-torch.roll(x, shifts=-1, dims=-1), x-torch.roll(x, shifts=1, dims=-1))"
   ]
  },
  {
   "cell_type": "code",
   "execution_count": 27,
   "metadata": {},
   "outputs": [
    {
     "data": {
      "image/png": "[encoded data removed]",
      "text/plain": [
       "<Figure size 576x288 with 2 Axes>"
      ]
     },
     "metadata": {
      "needs_background": "light"
     },
     "output_type": "display_data"
    },
    {
     "data": {
      "image/png": "[encoded data removed]",
      "text/plain": [
       "<Figure size 576x288 with 2 Axes>"
      ]
     },
     "metadata": {
      "needs_background": "light"
     },
     "output_type": "display_data"
    },
    {
     "data": {
      "image/png": "[encoded data removed]",
      "text/plain": [
       "<Figure size 576x288 with 2 Axes>"
      ]
     },
     "metadata": {
      "needs_background": "light"
     },
     "output_type": "display_data"
    }
   ],
   "source": [
    "# xi,j - xi,j+1 (horizontal gradient, bright to dark: high pos values)\n",
    "tv_r = torch.sub(probs, torch.roll(probs, shifts=-1, dims=-1)).detach()\n",
    "\n",
    "# xi,j - xi,j-1 (horizontal gradient, dark to bright: high pos values)\n",
    "tv_l = torch.sub(probs, torch.roll(probs, shifts=1, dims=-1)).detach() \n",
    "\n",
    "# combo: high pos value in bright to dark and dark to bright jumps only\n",
    "tv_lr = torch.max(tv_r, tv_l)\n",
    "\n",
    "imshow_pair(probs[0,3,400:450,300:350], tv_r[0,3,400:450,300:350], vmin1=0, vmax1=1, vmin2=0, vmax2=1)\n",
    "imshow_pair(probs[0,3,400:450,300:350], tv_l[0,3,400:450,300:350], vmin1=0, vmax1=1, vmin2=0, vmax2=1)\n",
    "imshow_pair(probs[0,3,400:450,300:350], tv_lr[0,3,400:450,300:350], vmin1=0, vmax1=1, vmin2=0, vmax2=1)"
   ]
  },
  {
   "cell_type": "markdown",
   "metadata": {},
   "source": [
    "Now, we don't want to have artificially high values in borders of labels, those are natural jumps. We need to discard gradient contributions from regions outside the vessel!\n",
    "\n",
    "A simple way is to assign very high/low values outside the vessel so that gradient is disproportionately large, and then discard disproportionate values:"
   ]
  },
  {
   "cell_type": "code",
   "execution_count": 28,
   "metadata": {},
   "outputs": [],
   "source": [
    "ignore_map = torch.stack([labels == 0, labels == 1, labels == 2, labels == 3], dim=1)\n",
    "\n",
    "masked_probs_high = torch.nn.Softmax(dim=1)(logits).detach()\n",
    "masked_probs_low = torch.nn.Softmax(dim=1)(logits).detach()\n",
    "masked_probs_high[~ignore_map]=3 # assign high values outside labels\n",
    "# masked_probs_low[~ignore_map]=-3 # assign low values outside labels"
   ]
  },
  {
   "cell_type": "code",
   "execution_count": 29,
   "metadata": {},
   "outputs": [
    {
     "data": {
      "image/png": "[encoded data removed]",
      "text/plain": [
       "<Figure size 576x288 with 2 Axes>"
      ]
     },
     "metadata": {
      "needs_background": "light"
     },
     "output_type": "display_data"
    }
   ],
   "source": [
    "imshow_pair(probs[0,3,400:450,300:350], masked_probs_high[0,3,400:450,300:350], \n",
    "            vmin1=0, vmax1=1, vmin2=0, vmax2=1)"
   ]
  },
  {
   "cell_type": "code",
   "execution_count": 30,
   "metadata": {},
   "outputs": [
    {
     "data": {
      "image/png": "[encoded data removed]",
      "text/plain": [
       "<Figure size 576x288 with 2 Axes>"
      ]
     },
     "metadata": {
      "needs_background": "light"
     },
     "output_type": "display_data"
    }
   ],
   "source": [
    "# xi,j - xi,j-1 (horizontal gradient, dark to bright: high pos values)\n",
    "# using maked_probs_high, artificial jumps from dark to bright \n",
    "# are eliminated since all is bright now outside vessel\n",
    "masked_tv_l = torch.sub(masked_probs_high, torch.roll(masked_probs_high, shifts=1, dims=-1)).detach() \n",
    "masked_tv_l[masked_tv_l>1]=0\n",
    "imshow_pair(tv_l[0,3,400:450,300:350], masked_tv_l[0,3,400:450,300:350], \n",
    "            vmin1=0, vmax1=1, vmin2=0, vmax2=1)"
   ]
  },
  {
   "cell_type": "code",
   "execution_count": 31,
   "metadata": {},
   "outputs": [
    {
     "data": {
      "image/png": "[encoded data removed]",
      "text/plain": [
       "<Figure size 576x288 with 2 Axes>"
      ]
     },
     "metadata": {
      "needs_background": "light"
     },
     "output_type": "display_data"
    }
   ],
   "source": [
    "masked_tv_r = torch.sub(masked_probs_high, torch.roll(masked_probs_high, shifts=-1, dims=-1)).detach()\n",
    "masked_tv_r[masked_tv_r>1]=0\n",
    "imshow_pair(tv_r[0,3,400:450,300:350], masked_tv_r[0,3,400:450,300:350], \n",
    "            vmin1=0, vmax1=1, vmin2=0, vmax2=1)"
   ]
  },
  {
   "cell_type": "code",
   "execution_count": 32,
   "metadata": {},
   "outputs": [
    {
     "data": {
      "image/png": "[encoded data removed]",
      "text/plain": [
       "<Figure size 576x288 with 2 Axes>"
      ]
     },
     "metadata": {
      "needs_background": "light"
     },
     "output_type": "display_data"
    }
   ],
   "source": [
    "# combo: high pos value in bright to dark and dark to bright jumps only\n",
    "masked_tv_lr = torch.max(masked_tv_r, masked_tv_l)\n",
    "imshow_pair(tv_lr[0,3,400:450,300:350], masked_tv_lr[0,3,400:450,300:350], \n",
    "            vmin1=0, vmax1=1, vmin2=0, vmax2=1)"
   ]
  },
  {
   "cell_type": "code",
   "execution_count": 37,
   "metadata": {},
   "outputs": [],
   "source": [
    "mm = torch.mul(masked_tv_lr, torch.abs(probs-ignore_map.float()))"
   ]
  },
  {
   "cell_type": "code",
   "execution_count": 38,
   "metadata": {},
   "outputs": [
    {
     "data": {
      "image/png": "[encoded data removed]",
      "text/plain": [
       "<Figure size 576x288 with 2 Axes>"
      ]
     },
     "metadata": {
      "needs_background": "light"
     },
     "output_type": "display_data"
    }
   ],
   "source": [
    "imshow_pair(mm[0,3,400:450,300:350], masked_tv_lr[0,3,400:450,300:350], \n",
    "            vmin1=0, vmax1=1, vmin2=0, vmax2=1)"
   ]
  },
  {
   "cell_type": "markdown",
   "metadata": {},
   "source": [
    "### UP-DOWN"
   ]
  },
  {
   "cell_type": "code",
   "execution_count": 40,
   "metadata": {},
   "outputs": [
    {
     "data": {
      "text/plain": [
       "tensor([[1, 0],\n",
       "        [1, 0],\n",
       "        [1, 0],\n",
       "        [0, 1],\n",
       "        [0, 1]])"
      ]
     },
     "execution_count": 40,
     "metadata": {},
     "output_type": "execute_result"
    }
   ],
   "source": [
    "# col 1: bright to dark, col 2: dark to bright\n",
    "x = torch.tensor([1, 0, 1, 0, 1, 0, 0, 1, 0, 1]).view(5, 2)\n",
    "x"
   ]
  },
  {
   "cell_type": "code",
   "execution_count": 41,
   "metadata": {},
   "outputs": [
    {
     "data": {
      "text/plain": [
       "tensor([[1, 0],\n",
       "        [1, 0],\n",
       "        [0, 1],\n",
       "        [0, 1],\n",
       "        [1, 0]])"
      ]
     },
     "execution_count": 41,
     "metadata": {},
     "output_type": "execute_result"
    }
   ],
   "source": [
    "torch.roll(x, shifts=-1, dims=-2) # xi+1,j "
   ]
  },
  {
   "cell_type": "code",
   "execution_count": 42,
   "metadata": {},
   "outputs": [
    {
     "data": {
      "text/plain": [
       "tensor([[ 0,  0],\n",
       "        [ 0,  0],\n",
       "        [ 1, -1],\n",
       "        [ 0,  0],\n",
       "        [-1,  1]])"
      ]
     },
     "execution_count": 42,
     "metadata": {},
     "output_type": "execute_result"
    }
   ],
   "source": [
    "# xi,j - xi+1,j  (vertical gradient)\n",
    "# bright to dark: high pos values\n",
    "# dark to bright: high neg values\n",
    "x-torch.roll(x, shifts=-1, dims=-2)"
   ]
  },
  {
   "cell_type": "code",
   "execution_count": 43,
   "metadata": {},
   "outputs": [
    {
     "data": {
      "text/plain": [
       "tensor([[0, 1],\n",
       "        [1, 0],\n",
       "        [1, 0],\n",
       "        [1, 0],\n",
       "        [0, 1]])"
      ]
     },
     "execution_count": 43,
     "metadata": {},
     "output_type": "execute_result"
    }
   ],
   "source": [
    "torch.roll(x, shifts=1, dims=-2) # xi-1,j"
   ]
  },
  {
   "cell_type": "code",
   "execution_count": 44,
   "metadata": {},
   "outputs": [
    {
     "data": {
      "text/plain": [
       "tensor([[ 1, -1],\n",
       "        [ 0,  0],\n",
       "        [ 0,  0],\n",
       "        [-1,  1],\n",
       "        [ 0,  0]])"
      ]
     },
     "execution_count": 44,
     "metadata": {},
     "output_type": "execute_result"
    }
   ],
   "source": [
    "# xi,j - xi-1,j (horizontal gradient)\n",
    "# bright to dark: high neg values\n",
    "# dark to bright: high pos values\n",
    "x-torch.roll(x, shifts=1, dims=-2)"
   ]
  },
  {
   "cell_type": "code",
   "execution_count": 45,
   "metadata": {},
   "outputs": [],
   "source": [
    "# torch.abs(x-torch.roll(x, shifts=1, dims=-2)), torch.abs(x-x-torch.roll(x, shifts=1, dims=-2))"
   ]
  },
  {
   "cell_type": "code",
   "execution_count": 46,
   "metadata": {},
   "outputs": [
    {
     "data": {
      "text/plain": [
       "tensor([[1, 0],\n",
       "        [0, 0],\n",
       "        [1, 0],\n",
       "        [0, 1],\n",
       "        [0, 1]])"
      ]
     },
     "execution_count": 46,
     "metadata": {},
     "output_type": "execute_result"
    }
   ],
   "source": [
    "# this gets us a high pos value in bright to dark and dark to bright jumps only\n",
    "torch.max(x-torch.roll(x, shifts=-1, dims=-2), x-torch.roll(x, shifts=1, dims=-2))"
   ]
  },
  {
   "cell_type": "code",
   "execution_count": 59,
   "metadata": {},
   "outputs": [],
   "source": [
    "idx = 2"
   ]
  },
  {
   "cell_type": "code",
   "execution_count": 60,
   "metadata": {},
   "outputs": [
    {
     "data": {
      "image/png": "[encoded data removed]",
      "text/plain": [
       "<Figure size 576x288 with 2 Axes>"
      ]
     },
     "metadata": {
      "needs_background": "light"
     },
     "output_type": "display_data"
    },
    {
     "data": {
      "image/png": "[encoded data removed]",
      "text/plain": [
       "<Figure size 576x288 with 2 Axes>"
      ]
     },
     "metadata": {
      "needs_background": "light"
     },
     "output_type": "display_data"
    },
    {
     "data": {
      "image/png": "[encoded data removed]",
      "text/plain": [
       "<Figure size 576x288 with 2 Axes>"
      ]
     },
     "metadata": {
      "needs_background": "light"
     },
     "output_type": "display_data"
    }
   ],
   "source": [
    "# xi,j - xi+1,j  (vertical gradient, bright to dark: high pos values)\n",
    "tv_u = torch.sub(probs, torch.roll(probs, shifts=-1, dims=-2)).detach()\n",
    "\n",
    "# xi,j - xi-1,j (vertical gradient, dark to bright: high pos values)\n",
    "tv_d = torch.sub(probs, torch.roll(probs, shifts=1, dims=-2)).detach() \n",
    "\n",
    "# combo: high pos value in bright to dark and dark to bright jumps only\n",
    "tv_ud = torch.max(tv_u, tv_d)\n",
    "\n",
    "imshow_pair(probs[0,idx,400:450,300:350], tv_u[0,idx,400:450,300:350], vmin1=0, vmax1=1, vmin2=0, vmax2=1)\n",
    "imshow_pair(probs[0,idx,400:450,300:350], tv_d[0,idx,400:450,300:350], vmin1=0, vmax1=1, vmin2=0, vmax2=1)\n",
    "imshow_pair(probs[0,idx,400:450,300:350], tv_ud[0,idx,400:450,300:350], vmin1=0, vmax1=1, vmin2=0, vmax2=1)"
   ]
  },
  {
   "cell_type": "code",
   "execution_count": 61,
   "metadata": {},
   "outputs": [
    {
     "data": {
      "image/png": "[encoded data removed]",
      "text/plain": [
       "<Figure size 576x288 with 2 Axes>"
      ]
     },
     "metadata": {
      "needs_background": "light"
     },
     "output_type": "display_data"
    }
   ],
   "source": [
    "masked_tv_u = torch.sub(masked_probs_high, torch.roll(masked_probs_high, shifts=-1, dims=-2)).detach()\n",
    "masked_tv_u[masked_tv_u>1]=0\n",
    "imshow_pair(tv_u[0,idx,400:450,300:350], masked_tv_u[0,idx,400:450,300:350], \n",
    "            vmin1=0, vmax1=1, vmin2=0, vmax2=1)"
   ]
  },
  {
   "cell_type": "code",
   "execution_count": 62,
   "metadata": {},
   "outputs": [
    {
     "data": {
      "image/png": "[encoded data removed]",
      "text/plain": [
       "<Figure size 576x288 with 2 Axes>"
      ]
     },
     "metadata": {
      "needs_background": "light"
     },
     "output_type": "display_data"
    }
   ],
   "source": [
    "masked_tv_d = torch.sub(masked_probs_high, torch.roll(masked_probs_high, shifts=1, dims=-2)).detach() \n",
    "masked_tv_d[masked_tv_d>1]=0\n",
    "imshow_pair(tv_d[0,idx,400:450,300:350], masked_tv_d[0,idx,400:450,300:350], \n",
    "            vmin1=0, vmax1=1, vmin2=0, vmax2=1)"
   ]
  },
  {
   "cell_type": "code",
   "execution_count": 63,
   "metadata": {},
   "outputs": [
    {
     "data": {
      "image/png": "[encoded data removed]",
      "text/plain": [
       "<Figure size 576x288 with 2 Axes>"
      ]
     },
     "metadata": {
      "needs_background": "light"
     },
     "output_type": "display_data"
    }
   ],
   "source": [
    "# combo: high pos value in bright to dark and dark to bright jumps only\n",
    "masked_tv_ud = torch.max(masked_tv_u, masked_tv_d)\n",
    "imshow_pair(tv_ud[0,idx,400:450,300:350], masked_tv_ud[0,idx,400:450,300:350], \n",
    "            vmin1=0, vmax1=1, vmin2=0, vmax2=1)"
   ]
  },
  {
   "cell_type": "code",
   "execution_count": 64,
   "metadata": {},
   "outputs": [
    {
     "data": {
      "text/plain": [
       "(torch.Size([2, 4, 512, 512]), torch.Size([2, 4, 512, 512]))"
      ]
     },
     "execution_count": 64,
     "metadata": {},
     "output_type": "execute_result"
    }
   ],
   "source": [
    "masked_tv_lr.shape, masked_tv_ud.shape"
   ]
  },
  {
   "cell_type": "code",
   "execution_count": 65,
   "metadata": {},
   "outputs": [],
   "source": [
    "overall_tv = torch.mean(torch.stack([masked_tv_lr,masked_tv_ud], dim=0), dim=0)\n",
    "overall_tv = torch.mul(overall_tv, torch.abs(probs-ignore_map.float()))"
   ]
  },
  {
   "cell_type": "code",
   "execution_count": 66,
   "metadata": {},
   "outputs": [
    {
     "data": {
      "image/png": "[encoded data removed]",
      "text/plain": [
       "<Figure size 576x288 with 2 Axes>"
      ]
     },
     "metadata": {
      "needs_background": "light"
     },
     "output_type": "display_data"
    }
   ],
   "source": [
    "imshow_pair(probs[0,idx,400:450,300:350], overall_tv[0,idx,400:450,300:350], \n",
    "            vmin1=0, vmax1=1, vmin2=0, vmax2=1)"
   ]
  },
  {
   "cell_type": "code",
   "execution_count": 67,
   "metadata": {},
   "outputs": [],
   "source": [
    "# Last step is to remove from TV all pixels that are not part of the structure:\n",
    "masked_overall_tv = torch.mul(ignore_map, overall_tv)"
   ]
  },
  {
   "cell_type": "code",
   "execution_count": 68,
   "metadata": {},
   "outputs": [
    {
     "data": {
      "image/png": "[encoded data removed]",
      "text/plain": [
       "<Figure size 576x288 with 2 Axes>"
      ]
     },
     "metadata": {
      "needs_background": "light"
     },
     "output_type": "display_data"
    }
   ],
   "source": [
    "imshow_pair(overall_tv[0,idx,400:450,300:350], masked_overall_tv[0,idx,400:450,300:350], \n",
    "            vmin1=0, vmax1=1, vmin2=0, vmax2=1)"
   ]
  },
  {
   "cell_type": "code",
   "execution_count": null,
   "metadata": {},
   "outputs": [],
   "source": []
  },
  {
   "cell_type": "code",
   "execution_count": null,
   "metadata": {},
   "outputs": [],
   "source": [
    "class MaskedTV(torch.nn.Module):\n",
    "    def __init__(self, ignore_background=False, sqrt=False, reduction='mean'):\n",
    "        super(MaskedTV, self).__init__()\n",
    "        self.reduction = reduction\n",
    "        self.sqrt = sqrt\n",
    "        self.ignore_background = ignore_background\n",
    "\n",
    "    def compute_tv(self, logits):\n",
    "\n",
    "        preds = torch.nn.Softmax(dim=1)(logits)\n",
    "\n",
    "        tv_l = torch.abs(torch.sub(preds, torch.roll(preds, shifts=1, dims=3)))\n",
    "        tv_r = torch.abs(torch.sub(preds, torch.roll(preds, shifts=-1, dims=3)))\n",
    "        tv_lu = torch.abs(torch.sub(preds, torch.roll(preds, shifts=(1, 1), dims=(2, 3))))\n",
    "        tv_rd = torch.abs(torch.sub(preds, torch.roll(preds, shifts=(-1, -1), dims=(2, 3))))\n",
    "\n",
    "        tv_u = torch.abs(torch.sub(preds, torch.roll(preds, shifts=1, dims=2)))\n",
    "        tv_d = torch.abs(torch.sub(preds, torch.roll(preds, shifts=-1, dims=2)))\n",
    "        tv_ru = torch.abs(torch.sub(preds, torch.roll(preds, shifts=(1, -1), dims=(2, 3))))\n",
    "        tv_dl = torch.abs(torch.sub(preds, torch.roll(preds, shifts=(-1, 1), dims=(2, 3))))\n",
    "        # take mean across orientations\n",
    "        tv = torch.mean(torch.stack([tv_l, tv_r, tv_lu, tv_rd, tv_u, tv_d, tv_ru, tv_dl], dim=0), dim=0)\n",
    "\n",
    "        return tv\n",
    "    \n",
    "    def compute_grad(self, labels):\n",
    "        grads = []\n",
    "        for j in range(4):\n",
    "            tv_l = torch.abs(torch.sub((labels!=j).long(), torch.roll((labels!=j).long(), shifts=1, dims=2)))\n",
    "            tv_r = torch.abs(torch.sub((labels!=j).long(), torch.roll((labels!=j).long(), shifts=-1, dims=2)))\n",
    "            tv_u = torch.abs(torch.sub((labels!=j).long(), torch.roll((labels!=j).long(), shifts=1, dims=1)))\n",
    "            tv_d = torch.abs(torch.sub((labels!=j).long(), torch.roll((labels!=j).long(), shifts=-1, dims=1)))\n",
    "            # take max across orientations\n",
    "            this_grad, _ = torch.max(torch.stack([tv_l, tv_r, tv_u, tv_d], dim=0), dim=0)\n",
    "            grads.append(this_grad)\n",
    "\n",
    "        grad = torch.stack(grads, dim=1)\n",
    "\n",
    "        return grad\n",
    "    def forward(self, logits, labels, **kwargs):\n",
    "        # assumes logits is bs x n_classes H x W,\n",
    "        #         labels is bs x H x W containing integer values in [0,...,n_classes-1]\n",
    "        \n",
    "        grad = self.compute_grad(labels)\n",
    "        ignore_map = torch.stack([labels == 0, labels == 1, labels == 2, labels == 3], dim=1)\n",
    "        \n",
    "        perfect_logits = 1000*torch.stack([(labels==0),(labels==1),(labels==2),(labels==3)],dim=1).float()\n",
    "        tv = self.compute_tv(perfect_logits)\n",
    "        masked_tv = torch.mul(tv, ignore_map)\n",
    "        masked_tv = torch.div(masked_tv, torch.nn.Softmax(dim=1)(logits))\n",
    "        masked_tv = torch.div(masked_tv, torch.nn.Softmax(dim=1)(logits)+1e-4)\n",
    "        masked_tv = torch.mul(masked_tv, (grad==0))\n",
    "        false_positives = (masked_tv!=0)\n",
    "        \n",
    "        \n",
    "        tv = self.compute_tv(logits)\n",
    "        masked_tv = torch.mul(tv, ignore_map)\n",
    "        masked_tv[false_positives]=0\n",
    "        \n",
    "        masked_tv = torch.div(masked_tv, torch.nn.Softmax(dim=1)(logits))\n",
    "        masked_tv = torch.div(masked_tv, torch.nn.Softmax(dim=1)(logits)+1e-4)\n",
    "        masked_tv = torch.mul(masked_tv, (grad==0))\n",
    "        \n",
    "#         masked_tv[masked_tv==0.25]=0\n",
    "        \n",
    "        if self.ignore_background:\n",
    "            masked_tv = masked_tv[:, 2:, ...]\n",
    "            ignore_map = ignore_map[:, 2:, ...]\n",
    "            \n",
    "        if self.reduction == 'mean':  # 1 value for the entire batch\n",
    "            mean_per_elem_per_class = (masked_tv.sum(dim=(-2, -1)) / ignore_map.sum(dim=(-2, -1)))\n",
    "            return mean_per_elem_per_class.mean()\n",
    "        elif self.reduction == 'none':  # n_classes values per element in batch\n",
    "            return masked_tv\n",
    "        else:\n",
    "            sys.exit('not a valid reduction scheme')"
   ]
  },
  {
   "cell_type": "code",
   "execution_count": null,
   "metadata": {},
   "outputs": [],
   "source": []
  },
  {
   "cell_type": "code",
   "execution_count": null,
   "metadata": {},
   "outputs": [],
   "source": []
  },
  {
   "cell_type": "code",
   "execution_count": null,
   "metadata": {},
   "outputs": [],
   "source": []
  },
  {
   "cell_type": "code",
   "execution_count": null,
   "metadata": {},
   "outputs": [],
   "source": []
  },
  {
   "cell_type": "code",
   "execution_count": null,
   "metadata": {},
   "outputs": [],
   "source": []
  },
  {
   "cell_type": "code",
   "execution_count": null,
   "metadata": {},
   "outputs": [],
   "source": []
  },
  {
   "cell_type": "code",
   "execution_count": null,
   "metadata": {},
   "outputs": [],
   "source": []
  },
  {
   "cell_type": "code",
   "execution_count": null,
   "metadata": {},
   "outputs": [],
   "source": []
  },
  {
   "cell_type": "code",
   "execution_count": null,
   "metadata": {},
   "outputs": [],
   "source": []
  },
  {
   "cell_type": "code",
   "execution_count": null,
   "metadata": {},
   "outputs": [],
   "source": []
  },
  {
   "cell_type": "code",
   "execution_count": null,
   "metadata": {},
   "outputs": [],
   "source": []
  },
  {
   "cell_type": "code",
   "execution_count": null,
   "metadata": {},
   "outputs": [],
   "source": []
  },
  {
   "cell_type": "markdown",
   "metadata": {},
   "source": [
    "We compute the total variation along the different structures, and we will penalize its value"
   ]
  },
  {
   "cell_type": "code",
   "execution_count": 54,
   "metadata": {},
   "outputs": [],
   "source": [
    "probs = torch.nn.Softmax(dim=1)(logits).detach()\n",
    "\n",
    "tv_l = torch.sub(probs, torch.roll(probs, shifts=1, dims=3)).detach()\n",
    "tv_l[tv_l<0]=0\n",
    "tv_r = torch.sub(probs, torch.roll(probs, shifts=-1, dims=3)).detach()\n",
    "tv_r[tv_r<0]=0\n",
    "\n",
    "tv_lr = torch.mean(torch.stack([tv_l, tv_r], dim=0), dim=0)"
   ]
  },
  {
   "cell_type": "code",
   "execution_count": 59,
   "metadata": {},
   "outputs": [
    {
     "data": {
      "image/png": "[encoded data removed]",
      "text/plain": [
       "<Figure size 576x288 with 2 Axes>"
      ]
     },
     "metadata": {
      "needs_background": "light"
     },
     "output_type": "display_data"
    }
   ],
   "source": [
    "masked_tv_l1 = torch.sub(probs, torch.roll(masked_probs, shifts=1, dims=3)).detach()\n",
    "masked_tv_l1[masked_tv_l1>1]=0\n",
    "masked_tv_l1[masked_tv_l1<0]=0\n",
    "\n",
    "masked_tv_l2 = torch.sub(masked_probs, torch.roll(probs, shifts=1, dims=3)).detach()\n",
    "masked_tv_l2[masked_tv_l2>1]=0\n",
    "masked_tv_l2[masked_tv_l2<0]=0\n",
    "\n",
    "imshow_pair(masked_tv_l1[0,3,400:450,300:350], masked_tv_l2[0,3,400:450,300:350], \n",
    "            vmin1=0, vmax1=1, vmin2=0, vmax2=1)\n",
    "# masked_tv_r = torch.sub(probs, torch.roll(masked_probs, shifts=-1, dims=3)).detach()\n",
    "# masked_tv_r[masked_tv_r<0]=0\n",
    "# masked_tv_r[masked_tv_r>1]=0\n",
    "\n",
    "# imshow_pair(masked_tv_l[0,3,400:450,300:350], masked_tv_r[0,3,400:450,300:350], \n",
    "# vmin1=0, vmax1=1, vmin2=0, vmax2=1)"
   ]
  },
  {
   "cell_type": "code",
   "execution_count": 60,
   "metadata": {},
   "outputs": [
    {
     "data": {
      "image/png": "[encoded data removed]",
      "text/plain": [
       "<Figure size 576x288 with 2 Axes>"
      ]
     },
     "metadata": {
      "needs_background": "light"
     },
     "output_type": "display_data"
    }
   ],
   "source": [
    "masked_tv_r1 = torch.sub(probs, torch.roll(masked_probs, shifts=-1, dims=3)).detach()\n",
    "masked_tv_r1[masked_tv_r1>1]=0\n",
    "masked_tv_r1[masked_tv_r1<0]=0\n",
    "\n",
    "masked_tv_r2 = torch.sub(probs, torch.roll(masked_probs, shifts=1, dims=3)).detach()\n",
    "masked_tv_r2[masked_tv_r2>1]=0\n",
    "masked_tv_r2[masked_tv_r2<0]=0\n",
    "\n",
    "imshow_pair(masked_tv_r1[0,3,400:450,300:350], masked_tv_r2[0,3,400:450,300:350], \n",
    "            vmin1=0, vmax1=1, vmin2=0, vmax2=1)\n",
    "# masked_tv_r = torch.sub(probs, torch.roll(masked_probs, shifts=-1, dims=3)).detach()\n",
    "# masked_tv_r[masked_tv_r<0]=0\n",
    "# masked_tv_r[masked_tv_r>1]=0\n",
    "\n",
    "# imshow_pair(masked_tv_l[0,3,400:450,300:350], masked_tv_r[0,3,400:450,300:350], \n",
    "# vmin1=0, vmax1=1, vmin2=0, vmax2=1)"
   ]
  },
  {
   "cell_type": "code",
   "execution_count": 57,
   "metadata": {},
   "outputs": [
    {
     "data": {
      "image/png": "[encoded data removed]",
      "text/plain": [
       "<Figure size 576x288 with 2 Axes>"
      ]
     },
     "metadata": {
      "needs_background": "light"
     },
     "output_type": "display_data"
    }
   ],
   "source": [
    "tv_lr = torch.mean(torch.stack([masked_tv_l, masked_tv_r], dim=0), dim=0)\n",
    "imshow_pair(masked_tv_l[0,3,400:450,300:350], tv_lr[0,3,400:450,300:350], vmin1=0, vmax1=1, vmin2=0, vmax2=1)"
   ]
  },
  {
   "cell_type": "code",
   "execution_count": null,
   "metadata": {},
   "outputs": [],
   "source": []
  },
  {
   "cell_type": "code",
   "execution_count": null,
   "metadata": {},
   "outputs": [],
   "source": []
  },
  {
   "cell_type": "code",
   "execution_count": null,
   "metadata": {},
   "outputs": [],
   "source": []
  },
  {
   "cell_type": "code",
   "execution_count": null,
   "metadata": {},
   "outputs": [],
   "source": []
  },
  {
   "cell_type": "code",
   "execution_count": 25,
   "metadata": {},
   "outputs": [
    {
     "data": {
      "image/png": "[encoded data removed]",
      "text/plain": [
       "<Figure size 576x288 with 2 Axes>"
      ]
     },
     "metadata": {
      "needs_background": "light"
     },
     "output_type": "display_data"
    }
   ],
   "source": [
    "tv_l = torch.abs(torch.sub(probs, torch.roll(probs, shifts=1, dims=3))).detach()\n",
    "tv_r = torch.abs(torch.sub(probs, torch.roll(probs, shifts=-1, dims=3))).detach()\n",
    "tv_u = torch.abs(torch.sub(probs, torch.roll(probs, shifts=1, dims=2))).detach()\n",
    "tv_d = torch.abs(torch.sub(probs, torch.roll(probs, shifts=-1, dims=2))).detach()\n",
    "\n",
    "imshow_pair(tv_l[0,3,400:450,300:350], tv_u[0,3,400:450,300:350], vmin1=0, vmax1=1, vmin2=0, vmax2=1)\n",
    "# imshow_pair(tv_u[0,2,400:450,300:350], tv_d[0,2,400:450,300:350], vmin1=0, vmax1=1, vmin2=0, vmax2=1)"
   ]
  },
  {
   "cell_type": "code",
   "execution_count": 32,
   "metadata": {},
   "outputs": [],
   "source": [
    "ignore_map = torch.stack([labels == 0, labels == 1, labels == 2, labels == 3], dim=1)\n",
    "masked_probs = torch.nn.Softmax(dim=1)(logits).detach()\n",
    "masked_probs[~ignore_map]=3\n",
    "\n",
    "masked_tv_l1 = torch.abs(torch.sub(probs, torch.roll(masked_probs, shifts=1, dims=3))).detach()\n",
    "masked_tv_l2 = torch.abs(torch.sub(masked_probs, torch.roll(probs, shifts=1, dims=3))).detach()\n",
    "masked_tv_l1[masked_tv_l1>1]=0\n",
    "masked_tv_l2[masked_tv_l2>1]=0\n",
    "\n",
    "masked_tv_r1 = torch.abs(torch.sub(probs, torch.roll(masked_probs, shifts=-1, dims=3)))\n",
    "masked_tv_r2 = torch.abs(torch.sub(masked_probs, torch.roll(probs, shifts=-1, dims=3)))\n",
    "masked_tv_r1[masked_tv_r1>1]=0\n",
    "masked_tv_r2[masked_tv_r2>1]=0\n",
    "\n",
    "# imshow_pair(tv_l[0,3,400:450,300:350], masked_tv_l1[0,3,400:450,300:350], vmin1=0, vmax1=1, vmin2=0, vmax2=1)\n",
    "# imshow_pair(tv_l[0,3,400:450,300:350], masked_tv_l2[0,3,400:450,300:350], vmin1=0, vmax1=1, vmin2=0, vmax2=1)\n",
    "\n",
    "# imshow_pair(tv_r[0,3,400:450,300:350], masked_tv_r2[0,3,400:450,300:350], vmin1=0, vmax1=1, vmin2=0, vmax2=1)\n",
    "# imshow_pair(tv_r[0,3,400:450,300:350], masked_tv_r1[0,3,400:450,300:350], vmin1=0, vmax1=1, vmin2=0, vmax2=1)"
   ]
  },
  {
   "cell_type": "code",
   "execution_count": 33,
   "metadata": {},
   "outputs": [
    {
     "data": {
      "image/png": "[encoded data removed]",
      "text/plain": [
       "<Figure size 576x288 with 2 Axes>"
      ]
     },
     "metadata": {
      "needs_background": "light"
     },
     "output_type": "display_data"
    }
   ],
   "source": [
    "# masked_tv_lr = torch.min(masked_tv_l1, masked_tv_l2)\n",
    "# masked_tv_lr = torch.min(masked_tv_lr, masked_tv_r1)\n",
    "# masked_tv_lr = torch.min(masked_tv_lr, masked_tv_r2)\n",
    "masked_tv_lr = torch.mean(torch.stack([masked_tv_l1, masked_tv_l2, masked_tv_r1, masked_tv_r2], dim=0), dim=0)\n",
    "\n",
    "imshow_pair(tv_l[0,3,400:450,300:350], masked_tv_lr[0,3,400:450,300:350], vmin1=0, vmax1=1, vmin2=0, vmax2=1)"
   ]
  },
  {
   "cell_type": "code",
   "execution_count": 36,
   "metadata": {},
   "outputs": [],
   "source": [
    "ignore_map = torch.stack([labels == 0, labels == 1, labels == 2, labels == 3], dim=1)\n",
    "masked_probs = torch.nn.Softmax(dim=1)(logits).detach()\n",
    "masked_probs[~ignore_map]=3\n",
    "\n",
    "masked_tv_u1 = torch.abs(torch.sub(probs, torch.roll(masked_probs, shifts=1, dims=2))).detach()\n",
    "masked_tv_u2 = torch.abs(torch.sub(masked_probs, torch.roll(probs, shifts=1, dims=2))).detach()\n",
    "masked_tv_u1[masked_tv_u1>1]=0\n",
    "masked_tv_u2[masked_tv_u2>1]=0\n",
    "\n",
    "masked_tv_d1 = torch.abs(torch.sub(probs, torch.roll(masked_probs, shifts=-1, dims=2)))\n",
    "masked_tv_d2 = torch.abs(torch.sub(masked_probs, torch.roll(probs, shifts=-1, dims=2)))\n",
    "masked_tv_d1[masked_tv_d1>1]=0\n",
    "masked_tv_d2[masked_tv_d2>1]=0\n",
    "\n",
    "# imshow_pair(tv_u[0,3,400:450,300:350], masked_tv_u1[0,3,400:450,300:350], vmin1=0, vmax1=1, vmin2=0, vmax2=1)\n",
    "# imshow_pair(tv_u[0,3,400:450,300:350], masked_tv_u2[0,3,400:450,300:350], vmin1=0, vmax1=1, vmin2=0, vmax2=1)\n",
    "\n",
    "# imshow_pair(tv_d[0,3,400:450,300:350], masked_tv_d2[0,3,400:450,300:350], vmin1=0, vmax1=1, vmin2=0, vmax2=1)\n",
    "# imshow_pair(tv_d[0,3,400:450,300:350], masked_tv_d1[0,3,400:450,300:350], vmin1=0, vmax1=1, vmin2=0, vmax2=1)"
   ]
  },
  {
   "cell_type": "code",
   "execution_count": 35,
   "metadata": {},
   "outputs": [
    {
     "data": {
      "image/png": "[encoded data removed]",
      "text/plain": [
       "<Figure size 576x288 with 2 Axes>"
      ]
     },
     "metadata": {
      "needs_background": "light"
     },
     "output_type": "display_data"
    }
   ],
   "source": [
    "# masked_tv_lr = torch.min(masked_tv_l1, masked_tv_l2)\n",
    "# masked_tv_lr = torch.min(masked_tv_lr, masked_tv_r1)\n",
    "# masked_tv_lr = torch.min(masked_tv_lr, masked_tv_r2)\n",
    "masked_tv_ud = torch.mean(torch.stack([masked_tv_u1, masked_tv_u2, masked_tv_d1, masked_tv_d2], dim=0), dim=0)\n",
    "\n",
    "imshow_pair(tv_d[0,3,400:450,300:350], masked_tv_ud[0,3,400:450,300:350], vmin1=0, vmax1=1, vmin2=0, vmax2=1)"
   ]
  },
  {
   "cell_type": "code",
   "execution_count": null,
   "metadata": {},
   "outputs": [],
   "source": []
  },
  {
   "cell_type": "code",
   "execution_count": null,
   "metadata": {},
   "outputs": [],
   "source": []
  },
  {
   "cell_type": "code",
   "execution_count": null,
   "metadata": {},
   "outputs": [],
   "source": []
  },
  {
   "cell_type": "code",
   "execution_count": null,
   "metadata": {},
   "outputs": [],
   "source": []
  },
  {
   "cell_type": "code",
   "execution_count": null,
   "metadata": {},
   "outputs": [],
   "source": []
  },
  {
   "cell_type": "code",
   "execution_count": null,
   "metadata": {},
   "outputs": [],
   "source": [
    "ignore_map = torch.stack([labels == 0, labels == 1, labels == 2, labels == 3], dim=1)\n",
    "masked_probs = torch.nn.Softmax(dim=1)(logits).detach()\n",
    "masked_probs[~ignore_map]=2\n",
    "\n",
    "masked_tv_l1 = torch.abs(torch.sub(probs, torch.roll(masked_probs, shifts=1, dims=3))).detach()\n",
    "masked_tv_r1 = torch.abs(torch.sub(probs, torch.roll(masked_probs, shifts=-1, dims=3)))\n",
    "\n",
    "masked_tv_l2 = torch.abs(torch.sub(masked_probs, torch.roll(probs, shifts=1, dims=3))).detach()\n",
    "masked_tv_r2 = torch.abs(torch.sub(masked_probs, torch.roll(probs, shifts=-1, dims=3)))\n",
    "\n",
    "masked_tv_u1 = torch.abs(torch.sub(probs, torch.roll(masked_probs, shifts=1, dims=2))).detach()\n",
    "masked_tv_u2 = torch.abs(torch.sub(masked_probs, torch.roll(probs, shifts=1, dims=2))).detach()\n",
    "\n",
    "masked_tv_d1 = torch.abs(torch.sub(probs, torch.roll(masked_probs, shifts=-1, dims=2)))\n",
    "masked_tv_d2 = torch.abs(torch.sub(masked_probs, torch.roll(probs, shifts=-1, dims=2)))\n",
    "\n",
    "masked_tv_l1[masked_tv_l1>1]=0\n",
    "masked_tv_l2[masked_tv_l2>1]=0\n",
    "\n",
    "masked_tv_r1[masked_tv_r1>1]=0\n",
    "masked_tv_r2[masked_tv_r2>1]=0\n",
    "\n",
    "masked_tv_u1[masked_tv_u1>1]=0\n",
    "masked_tv_u2[masked_tv_u2>1]=0\n",
    "\n",
    "masked_tv_d1[masked_tv_d1>1]=0\n",
    "masked_tv_d2[masked_tv_d2>1]=0\n",
    "\n",
    "# masked_tv_u1[masked_tv_u1>1]=0\n",
    "# masked_tv_u2[masked_tv_u2>1]=0\n",
    "\n",
    "# masked_tv_l = torch.min(masked_tv_l1, masked_tv_l2)\n",
    "# masked_tv_l = torch.min(masked_tv_l, masked_tv_r1)\n",
    "# masked_tv_l = torch.min(masked_tv_l, masked_tv_r2)\n",
    "\n",
    "# masked_tv = torch.mean(torch.stack([masked_tv_l1, masked_tv_l2, masked_tv_r1, masked_tv_r2], dim=0), dim=0)\n",
    "# masked_tv = torch.mul(masked_tv, ignore_map).detach()"
   ]
  },
  {
   "cell_type": "code",
   "execution_count": null,
   "metadata": {},
   "outputs": [],
   "source": [
    "imshow_pair(tv_l[0,2,400:450,300:350], masked_tv_l1[0,2,400:450,300:350], vmin1=0, vmax1=1, vmin2=0, vmax2=1)\n",
    "imshow_pair(tv_l[0,2,400:450,300:350], masked_tv_l2[0,2,400:450,300:350], vmin1=0, vmax1=1, vmin2=0, vmax2=1)\n",
    "imshow_pair(tv_l[0,2,400:450,300:350], masked_tv_l[0,2,400:450,300:350], vmin1=0, vmax1=1, vmin2=0, vmax2=1)\n",
    "# imshow_pair(tv_u[0,2,400:450,300:350], masked_tv_u[0,2,400:450,300:350], vmin1=0, vmax1=1, vmin2=0, vmax2=1)"
   ]
  },
  {
   "cell_type": "code",
   "execution_count": null,
   "metadata": {},
   "outputs": [],
   "source": []
  },
  {
   "cell_type": "code",
   "execution_count": null,
   "metadata": {},
   "outputs": [],
   "source": [
    "def compute_tv(logits):\n",
    "\n",
    "    probs = torch.nn.Softmax(dim=1)(logits)\n",
    "\n",
    "    tv_l = torch.abs(torch.sub(probs, torch.roll(probs, shifts=1, dims=3)))\n",
    "    tv_r = torch.abs(torch.sub(probs, torch.roll(probs, shifts=-1, dims=3)))\n",
    "#     tv_lu = torch.abs(torch.sub(probs, torch.roll(probs, shifts=(1, 1), dims=(2, 3))))\n",
    "#     tv_rd = torch.abs(torch.sub(probs, torch.roll(probs, shifts=(-1, -1), dims=(2, 3))))\n",
    "\n",
    "    tv_u = torch.abs(torch.sub(probs, torch.roll(probs, shifts=1, dims=2)))\n",
    "    tv_d = torch.abs(torch.sub(probs, torch.roll(probs, shifts=-1, dims=2)))\n",
    "#     tv_ru = torch.abs(torch.sub(probs, torch.roll(probs, shifts=(1, -1), dims=(2, 3))))\n",
    "#     tv_dl = torch.abs(torch.sub(probs, torch.roll(probs, shifts=(-1, 1), dims=(2, 3))))\n",
    "    # take mean across orientations\n",
    "#     tv = torch.mean(torch.stack([tv_l, tv_r, tv_lu, tv_rd, tv_u, tv_d, tv_ru, tv_dl], dim=0), dim=0)\n",
    "    tv = torch.mean(torch.stack([tv_l, tv_r, tv_u, tv_d], dim=0), dim=0)\n",
    "    return tv"
   ]
  },
  {
   "cell_type": "code",
   "execution_count": null,
   "metadata": {},
   "outputs": [],
   "source": [
    "def compute_grad(labels):\n",
    "    grads = []\n",
    "    for j in range(4):\n",
    "        tv_l = torch.abs(torch.sub((labels!=j).long(), torch.roll((labels!=j).long(), shifts=1, dims=2)))\n",
    "        tv_r = torch.abs(torch.sub((labels!=j).long(), torch.roll((labels!=j).long(), shifts=-1, dims=2)))\n",
    "        tv_u = torch.abs(torch.sub((labels!=j).long(), torch.roll((labels!=j).long(), shifts=1, dims=1)))\n",
    "        tv_d = torch.abs(torch.sub((labels!=j).long(), torch.roll((labels!=j).long(), shifts=-1, dims=1)))\n",
    "        # take max across orientations\n",
    "        this_grad, _ = torch.max(torch.stack([tv_l, tv_r, tv_u, tv_d], dim=0), dim=0)\n",
    "        grads.append(this_grad)\n",
    "        \n",
    "    grad = torch.stack(grads, dim=1)\n",
    "    \n",
    "    return grad"
   ]
  },
  {
   "cell_type": "code",
   "execution_count": null,
   "metadata": {},
   "outputs": [],
   "source": [
    "# we will ignore TV loss on borders of labels\n",
    "grad = compute_grad(labels)\n",
    "imshow_pair(grad[0,0,400:450,300:350], grad[0,1,400:450,300:350])\n",
    "imshow_pair(grad[0,2,400:450,300:350], grad[0,3,400:450,300:350])"
   ]
  },
  {
   "cell_type": "code",
   "execution_count": null,
   "metadata": {},
   "outputs": [],
   "source": [
    "# we only care about tv where labels are positive\n",
    "ignore_map = torch.stack([labels == 0, labels == 1, labels == 2, labels == 3], dim=1)\n",
    "imshow_pair(ignore_map[0,0,400:450,300:350], ignore_map[0,1,400:450,300:350])\n",
    "imshow_pair(ignore_map[0,2,400:450,300:350], ignore_map[0,3,400:450,300:350])"
   ]
  },
  {
   "cell_type": "code",
   "execution_count": null,
   "metadata": {},
   "outputs": [],
   "source": [
    "# this is the TV of our probabilities, which we would like to be constant (=0)\n",
    "tv = compute_tv(logits).detach()\n",
    "imshow_pair(tv[0,0,400:450,300:350], tv[0,1,400:450,300:350], vmin1=0, vmax1=1, vmin2=0, vmax2=1)\n",
    "imshow_pair(tv[0,2,400:450,300:350], tv[0,3,400:450,300:350], vmin1=0, vmax1=1, vmin2=0, vmax2=1)"
   ]
  },
  {
   "cell_type": "code",
   "execution_count": null,
   "metadata": {},
   "outputs": [],
   "source": [
    "# this is the TV of perfect probabilities, which is only non-zero at gradients of structures\n",
    "tv_perf = compute_tv(perfect_logits).detach()\n",
    "imshow_pair(tv_perf[0,0,400:450,300:350], tv_perf[0,1,400:450,300:350], vmin1=0, vmax1=1, vmin2=0, vmax2=1)\n",
    "imshow_pair(tv_perf[0,2,400:450,300:350], tv_perf[0,3,400:450,300:350], vmin1=0, vmax1=1, vmin2=0, vmax2=1)"
   ]
  },
  {
   "cell_type": "code",
   "execution_count": null,
   "metadata": {},
   "outputs": [],
   "source": [
    "# this ignores, for each channel, pixels that do not belong to the corresponding label, \n",
    "# only non-zero pixels here will be of interest\n",
    "masked_tv = torch.mul(tv, ignore_map).detach()\n",
    "imshow_pair(masked_tv[0,0,400:450,300:350], masked_tv[0,1,400:450,300:350], vmin1=0, vmax1=1, vmin2=0, vmax2=1)\n",
    "imshow_pair(masked_tv[0,2,400:450,300:350], masked_tv[0,3,400:450,300:350], vmin1=0, vmax1=1, vmin2=0, vmax2=1)"
   ]
  },
  {
   "cell_type": "code",
   "execution_count": null,
   "metadata": {},
   "outputs": [],
   "source": [
    "# the corresponding TV on perfect predictions should be all zeros unless at label gradients!\n",
    "masked_tv_perf = torch.mul(tv_perf, ignore_map).detach()\n",
    "imshow_pair(masked_tv_perf[0,0,400:450,300:350], masked_tv_perf[0,1,400:450,300:350], \n",
    "            vmin1=0, vmax1=1, vmin2=0, vmax2=1)\n",
    "imshow_pair(masked_tv_perf[0,2,400:450,300:350], masked_tv_perf[0,3,400:450,300:350], \n",
    "            vmin1=0, vmax1=1, vmin2=0, vmax2=1)"
   ]
  },
  {
   "cell_type": "code",
   "execution_count": null,
   "metadata": {},
   "outputs": [],
   "source": [
    "# we can actually discard pixels where the TV in perfect probs was non-zero, those are failure to compute grads\n",
    "# at a good resolution\n",
    "ignore_map2 = (masked_tv_perf==0)\n",
    "imshow_pair(ignore_map2[0,0,400:450,300:350], ignore_map2[0,1,400:450,300:350], vmin1=0, vmax1=1, vmin2=0, vmax2=1)\n",
    "imshow_pair(ignore_map2[0,2,400:450,300:350], ignore_map2[0,3,400:450,300:350], vmin1=0, vmax1=1, vmin2=0, vmax2=1)"
   ]
  },
  {
   "cell_type": "code",
   "execution_count": null,
   "metadata": {},
   "outputs": [],
   "source": [
    "# if we ignore those pixels with perfect probs, we should see all zeros now\n",
    "masked_tv_perf = torch.mul(masked_tv_perf, ignore_map2).detach()\n",
    "imshow_pair(masked_tv_perf[0,0,400:450,300:350], masked_tv_perf[0,1,400:450,300:350], vmin1=0, vmax1=1, vmin2=0, vmax2=1)\n",
    "imshow_pair(masked_tv_perf[0,2,400:450,300:350], masked_tv_perf[0,3,400:450,300:350], vmin1=0, vmax1=1, vmin2=0, vmax2=1)"
   ]
  },
  {
   "cell_type": "code",
   "execution_count": null,
   "metadata": {},
   "outputs": [],
   "source": [
    "# if we ignore those pixels with actual probs, we should discard hard pixels\n",
    "masked_tv = torch.mul(masked_tv, ignore_map2).detach()\n",
    "imshow_pair(masked_tv[0,0,400:450,300:350], masked_tv[0,1,400:450,300:350], vmin1=0, vmax1=1, vmin2=0, vmax2=1)\n",
    "imshow_pair(masked_tv[0,2,400:450,300:350], masked_tv[0,3,400:450,300:350], vmin1=0, vmax1=1, vmin2=0, vmax2=1)"
   ]
  },
  {
   "cell_type": "markdown",
   "metadata": {},
   "source": [
    "So those are the pixels that we would like to be zero! However, being zero alone does not promote good classification, only consistency. What if we divide by the probability itself? If he probability is close to zero, we get high numbers, but if it is close to one we get low numbers:"
   ]
  },
  {
   "cell_type": "code",
   "execution_count": null,
   "metadata": {},
   "outputs": [],
   "source": [
    "w_masked_tv = torch.div(masked_tv, probs+1e-8)\n",
    "imshow_pair(w_masked_tv[0,0,400:450,300:350], w_masked_tv[0,1,400:450,300:350], vmin1=0, vmax1=1, vmin2=0, vmax2=1)\n",
    "imshow_pair(w_masked_tv[0,2,400:450,300:350], w_masked_tv[0,3,400:450,300:350], vmin1=0, vmax1=1, vmin2=0, vmax2=1)"
   ]
  },
  {
   "cell_type": "markdown",
   "metadata": {},
   "source": [
    "Now, that also penalizes incorrect predictions. Let us see if we get zeros with our perfect preds:"
   ]
  },
  {
   "cell_type": "code",
   "execution_count": null,
   "metadata": {},
   "outputs": [],
   "source": [
    "w_masked_tv_perf = torch.div(masked_tv_perf, perfect_probs+1e-8)\n",
    "imshow_pair(w_masked_tv_perf[0,0,400:450,300:350], w_masked_tv_perf[0,1,400:450,300:350], vmin1=0, vmax1=1, vmin2=0, vmax2=1)\n",
    "imshow_pair(w_masked_tv_perf[0,2,400:450,300:350], w_masked_tv_perf[0,3,400:450,300:350], vmin1=0, vmax1=1, vmin2=0, vmax2=1)"
   ]
  },
  {
   "cell_type": "markdown",
   "metadata": {},
   "source": [
    "So we are happy now; let us compare the predictions with their penalty maps now:"
   ]
  },
  {
   "cell_type": "code",
   "execution_count": null,
   "metadata": {},
   "outputs": [],
   "source": [
    "imshow_pair(perfect_probs[0,0,400:450,300:350], w_masked_tv[0,0,400:450,300:350], \n",
    "            vmin1=0, vmax1=1, vmin2=0, vmax2=1)\n",
    "imshow_pair(probs[0,0,400:450,300:350], w_masked_tv[0,0,400:450,300:350], \n",
    "            vmin1=0, vmax1=1, vmin2=0, vmax2=1)"
   ]
  },
  {
   "cell_type": "code",
   "execution_count": null,
   "metadata": {},
   "outputs": [],
   "source": [
    "imshow_pair(perfect_probs[0,1,400:450,300:350], w_masked_tv[0,1,400:450,300:350], \n",
    "            vmin1=0, vmax1=1, vmin2=0, vmax2=1)\n",
    "imshow_pair(probs[0,1,400:450,300:350], w_masked_tv[0,1,400:450,300:350], \n",
    "            vmin1=0, vmax1=1, vmin2=0, vmax2=1)"
   ]
  },
  {
   "cell_type": "code",
   "execution_count": null,
   "metadata": {},
   "outputs": [],
   "source": [
    "imshow_pair(perfect_probs[0,2,400:450,300:350], w_masked_tv[0,2,400:450,300:350], \n",
    "            vmin1=0, vmax1=1, vmin2=0, vmax2=1)\n",
    "imshow_pair(probs[0,2,400:450,300:350], w_masked_tv[0,2,400:450,300:350], \n",
    "            vmin1=0, vmax1=1, vmin2=0, vmax2=1)"
   ]
  },
  {
   "cell_type": "code",
   "execution_count": null,
   "metadata": {},
   "outputs": [],
   "source": [
    "imshow_pair(perfect_probs[0,3,400:450,300:350], w_masked_tv[0,3,400:450,300:350], \n",
    "            vmin1=0, vmax1=1, vmin2=0, vmax2=1)\n",
    "imshow_pair(probs[0,3,400:450,300:350], w_masked_tv[0,3,400:450,300:350], \n",
    "            vmin1=0, vmax1=1, vmin2=0, vmax2=1)"
   ]
  },
  {
   "cell_type": "markdown",
   "metadata": {},
   "source": [
    "One thing we are not doing is penalizing errors outside structures (aka false positives). We could also add penalty there but only TV, so that they can nicely become all zero."
   ]
  },
  {
   "cell_type": "code",
   "execution_count": null,
   "metadata": {},
   "outputs": [],
   "source": [
    "ignore_map_FP = torch.stack([labels != 0, labels != 1, labels != 2, labels != 3], dim=1)\n",
    "imshow_pair(ignore_map_FP[0,0,400:450,300:350], ignore_map_FP[0,1,400:450,300:350])\n",
    "imshow_pair(ignore_map_FP[0,2,400:450,300:350], ignore_map_FP[0,3,400:450,300:350])"
   ]
  },
  {
   "cell_type": "code",
   "execution_count": null,
   "metadata": {},
   "outputs": [],
   "source": [
    "# On those we want to compute TV alone, without dividing\n",
    "masked_tv_FP = torch.mul(tv, ignore_map_FP).detach()\n",
    "imshow_pair(masked_tv_FP[0,0,400:450,300:350], masked_tv_FP[0,1,400:450,300:350], vmin1=0, vmax1=1, vmin2=0, vmax2=1)\n",
    "imshow_pair(masked_tv_FP[0,2,400:450,300:350], masked_tv_FP[0,3,400:450,300:350], vmin1=0, vmax1=1, vmin2=0, vmax2=1)"
   ]
  },
  {
   "cell_type": "code",
   "execution_count": null,
   "metadata": {},
   "outputs": [],
   "source": [
    "# the corresponding TV on perfect predictions should be all zeros unless at label gradients!\n",
    "masked_tv_perf_FP = torch.mul(tv_perf, ignore_map_FP).detach()\n",
    "imshow_pair(masked_tv_perf_FP[0,0,400:450,300:350], masked_tv_perf_FP[0,1,400:450,300:350], \n",
    "            vmin1=0, vmax1=1, vmin2=0, vmax2=1)\n",
    "imshow_pair(masked_tv_perf_FP[0,2,400:450,300:350], masked_tv_perf_FP[0,3,400:450,300:350], \n",
    "            vmin1=0, vmax1=1, vmin2=0, vmax2=1)"
   ]
  },
  {
   "cell_type": "code",
   "execution_count": null,
   "metadata": {},
   "outputs": [],
   "source": [
    "# we can actually discard pixels where the TV in perfect probs was non-zero, those are failure to compute grads\n",
    "# at a good resolution\n",
    "ignore_map2_FP = (masked_tv_perf_FP==0)\n",
    "imshow_pair(ignore_map2_FP[0,0,400:450,300:350], ignore_map2_FP[0,1,400:450,300:350], vmin1=0, vmax1=1, vmin2=0, vmax2=1)\n",
    "imshow_pair(ignore_map2_FP[0,2,400:450,300:350], ignore_map2_FP[0,3,400:450,300:350], vmin1=0, vmax1=1, vmin2=0, vmax2=1)"
   ]
  },
  {
   "cell_type": "code",
   "execution_count": null,
   "metadata": {},
   "outputs": [],
   "source": [
    "# if we ignore those pixels with perfect probs, we should see all zeros now\n",
    "masked_tv_perf_FP = torch.mul(masked_tv_perf_FP, ignore_map2_FP).detach()\n",
    "imshow_pair(masked_tv_perf_FP[0,0,400:450,300:350], masked_tv_perf_FP[0,1,400:450,300:350], vmin1=0, vmax1=1, vmin2=0, vmax2=1)\n",
    "imshow_pair(masked_tv_perf_FP[0,2,400:450,300:350], masked_tv_perf_FP[0,3,400:450,300:350], vmin1=0, vmax1=1, vmin2=0, vmax2=1)"
   ]
  },
  {
   "cell_type": "code",
   "execution_count": null,
   "metadata": {},
   "outputs": [],
   "source": [
    "# if we ignore those pixels with actual probs, we should discard hard pixels\n",
    "masked_tv_FP = torch.mul(masked_tv_FP, ignore_map2_FP).detach()\n",
    "imshow_pair(masked_tv_FP[0,0,400:450,300:350], masked_tv_FP[0,1,400:450,300:350], vmin1=0, vmax1=1, vmin2=0, vmax2=1)\n",
    "imshow_pair(masked_tv_FP[0,2,400:450,300:350], masked_tv_FP[0,3,400:450,300:350], vmin1=0, vmax1=1, vmin2=0, vmax2=1)"
   ]
  },
  {
   "cell_type": "markdown",
   "metadata": {},
   "source": [
    "So now we should also be penalizing False Positive TV"
   ]
  },
  {
   "cell_type": "code",
   "execution_count": null,
   "metadata": {},
   "outputs": [],
   "source": [
    "imshow_pair(perfect_probs[0,0,400:450,300:350], masked_tv_FP[0,0,400:450,300:350], \n",
    "            vmin1=0, vmax1=1, vmin2=0, vmax2=1)\n",
    "imshow_pair(probs[0,0,400:450,300:350], masked_tv_FP[0,0,400:450,300:350], \n",
    "            vmin1=0, vmax1=1, vmin2=0, vmax2=1)"
   ]
  },
  {
   "cell_type": "code",
   "execution_count": null,
   "metadata": {},
   "outputs": [],
   "source": [
    "imshow_pair(perfect_probs[0,1,400:450,300:350], masked_tv_FP[0,1,400:450,300:350], \n",
    "            vmin1=0, vmax1=1, vmin2=0, vmax2=1)\n",
    "imshow_pair(probs[0,1,400:450,300:350], masked_tv_FP[0,1,400:450,300:350], \n",
    "            vmin1=0, vmax1=1, vmin2=0, vmax2=1)"
   ]
  },
  {
   "cell_type": "code",
   "execution_count": null,
   "metadata": {},
   "outputs": [],
   "source": [
    "imshow_pair(perfect_probs[0,2,400:450,300:350], masked_tv_FP[0,2,400:450,300:350], \n",
    "            vmin1=0, vmax1=1, vmin2=0, vmax2=1)\n",
    "imshow_pair(probs[0,2,400:450,300:350], masked_tv_FP[0,2,400:450,300:350], \n",
    "            vmin1=0, vmax1=1, vmin2=0, vmax2=1)"
   ]
  },
  {
   "cell_type": "code",
   "execution_count": null,
   "metadata": {},
   "outputs": [],
   "source": [
    "imshow_pair(perfect_probs[0,3,400:450,300:350], masked_tv_FP[0,3,400:450,300:350], \n",
    "            vmin1=0, vmax1=1, vmin2=0, vmax2=1)\n",
    "imshow_pair(probs[0,3,400:450,300:350], masked_tv_FP[0,3,400:450,300:350], \n",
    "            vmin1=0, vmax1=1, vmin2=0, vmax2=1)"
   ]
  },
  {
   "cell_type": "markdown",
   "metadata": {},
   "source": [
    "So we are ready to build everything up into a loss:"
   ]
  },
  {
   "cell_type": "code",
   "execution_count": null,
   "metadata": {},
   "outputs": [],
   "source": []
  },
  {
   "cell_type": "code",
   "execution_count": null,
   "metadata": {},
   "outputs": [],
   "source": []
  },
  {
   "cell_type": "code",
   "execution_count": null,
   "metadata": {},
   "outputs": [],
   "source": []
  },
  {
   "cell_type": "code",
   "execution_count": null,
   "metadata": {},
   "outputs": [],
   "source": []
  },
  {
   "cell_type": "code",
   "execution_count": null,
   "metadata": {},
   "outputs": [],
   "source": []
  },
  {
   "cell_type": "code",
   "execution_count": null,
   "metadata": {},
   "outputs": [],
   "source": []
  },
  {
   "cell_type": "code",
   "execution_count": null,
   "metadata": {},
   "outputs": [],
   "source": []
  },
  {
   "cell_type": "code",
   "execution_count": null,
   "metadata": {},
   "outputs": [],
   "source": []
  },
  {
   "cell_type": "code",
   "execution_count": null,
   "metadata": {},
   "outputs": [],
   "source": []
  },
  {
   "cell_type": "code",
   "execution_count": null,
   "metadata": {},
   "outputs": [],
   "source": []
  },
  {
   "cell_type": "code",
   "execution_count": null,
   "metadata": {},
   "outputs": [],
   "source": [
    "imshow_pair(probs[0,1,400:450,300:350],w_masked_tv[0,1,400:450,300:350], \n",
    "            vmin1=0, vmax1=1, vmin2=0, vmax2=1)"
   ]
  },
  {
   "cell_type": "code",
   "execution_count": null,
   "metadata": {},
   "outputs": [],
   "source": [
    "imshow_pair(probs[0,2,400:450,300:350], w_masked_tv[0,2,400:450,300:350], \n",
    "            vmin1=0, vmax1=1, vmin2=0, vmax2=1)\n",
    "imshow_pair(probs[0,3,400:450,300:350],w_masked_tv[0,3,400:450,300:350], \n",
    "            vmin1=0, vmax1=1, vmin2=0, vmax2=1)"
   ]
  },
  {
   "cell_type": "code",
   "execution_count": null,
   "metadata": {},
   "outputs": [],
   "source": [
    "imshow_pair(w_masked_tv[0,0,400:450,300:350], w_masked_tv[0,1,400:450,300:350], \n",
    "            vmin1=0, vmax1=1, vmin2=0, vmax2=1)\n",
    "imshow_pair(w_masked_tv[0,2,400:450,300:350], w_masked_tv[0,3,400:450,300:350],\n",
    "            vmin1=0, vmax1=1, vmin2=0, vmax2=1)"
   ]
  },
  {
   "cell_type": "code",
   "execution_count": null,
   "metadata": {},
   "outputs": [],
   "source": []
  },
  {
   "cell_type": "code",
   "execution_count": null,
   "metadata": {},
   "outputs": [],
   "source": []
  },
  {
   "cell_type": "code",
   "execution_count": null,
   "metadata": {},
   "outputs": [],
   "source": [
    "imshow_pair(perfect_probs[0,idx,400:450,300:350].detach(), probs[0,idx,400:450,300:350].detach())"
   ]
  },
  {
   "cell_type": "code",
   "execution_count": null,
   "metadata": {},
   "outputs": [],
   "source": [
    "imshow_pair(masked_tv[0,idx,400:450,300:350], masked_tv_perf[0,idx,400:450,300:350])"
   ]
  },
  {
   "cell_type": "code",
   "execution_count": null,
   "metadata": {},
   "outputs": [],
   "source": [
    "imshow_pair(weighted_masked_tv[0,idx,400:450,300:350], weighted_masked_tv_perf[0,idx,400:450,300:350])"
   ]
  },
  {
   "cell_type": "code",
   "execution_count": null,
   "metadata": {},
   "outputs": [],
   "source": [
    "masked_tv_no_grad = torch.mul(masked_tv, (grad==0)).detach()\n",
    "masked_tv_no_grad_perf = torch.mul(masked_tv_perf, (grad==0)).detach()\n",
    "\n",
    "weighted_masked_tv_no_grad = torch.mul(weighted_masked_tv, (grad==0)).detach()\n",
    "weighted_masked_tv_no_grad_perf = torch.mul(weighted_masked_tv_perf, (grad==0)).detach()"
   ]
  },
  {
   "cell_type": "code",
   "execution_count": null,
   "metadata": {},
   "outputs": [],
   "source": [
    "masked_tv_no_grad[0,3,400:450,300:350].mean(), masked_tv_no_grad_perf[0,3,400:450,300:350].mean()"
   ]
  },
  {
   "cell_type": "code",
   "execution_count": null,
   "metadata": {},
   "outputs": [],
   "source": [
    "weighted_masked_tv_no_grad[0,idx,400:450,300:350].mean(), \\\n",
    "weighted_masked_tv_no_grad_perf[0,idx,400:450,300:350].mean()"
   ]
  },
  {
   "cell_type": "code",
   "execution_count": null,
   "metadata": {},
   "outputs": [],
   "source": [
    "imshow_pair(masked_tv_no_grad[0,idx,400:450,300:350], masked_tv_no_grad_perf[0,idx,400:450,300:350], \n",
    "            vmin1=0,vmax1=1,vmin2=0,vmax2=1)"
   ]
  },
  {
   "cell_type": "code",
   "execution_count": null,
   "metadata": {},
   "outputs": [],
   "source": [
    "imshow_pair(weighted_masked_tv_no_grad[0,idx,400:450,300:350], weighted_masked_tv_no_grad_perf[0,idx,400:450,300:350], \n",
    "            vmin1=0,vmax1=1,vmin2=0,vmax2=1)"
   ]
  },
  {
   "cell_type": "code",
   "execution_count": null,
   "metadata": {},
   "outputs": [],
   "source": [
    "torch.unique(weighted_masked_tv_no_grad_perf[0,idx])"
   ]
  },
  {
   "cell_type": "code",
   "execution_count": null,
   "metadata": {},
   "outputs": [],
   "source": [
    "weighted_masked_tv_no_grad_perf[weighted_masked_tv_no_grad_perf==0.125]=0\n",
    "weighted_masked_tv_no_grad_perf[weighted_masked_tv_no_grad_perf==0.25]=0"
   ]
  },
  {
   "cell_type": "code",
   "execution_count": null,
   "metadata": {},
   "outputs": [],
   "source": [
    "torch.unique(weighted_masked_tv_no_grad_perf[0,idx])"
   ]
  },
  {
   "cell_type": "code",
   "execution_count": null,
   "metadata": {},
   "outputs": [],
   "source": [
    "class MaskedTV(torch.nn.Module):\n",
    "    def __init__(self, ignore_background=False, sqrt=False, reduction='mean'):\n",
    "        super(MaskedTV, self).__init__()\n",
    "        self.reduction = reduction\n",
    "        self.sqrt = sqrt\n",
    "        self.ignore_background = ignore_background\n",
    "\n",
    "    def compute_tv(self, logits):\n",
    "\n",
    "        preds = torch.nn.Softmax(dim=1)(logits)\n",
    "\n",
    "        tv_l = torch.abs(torch.sub(preds, torch.roll(preds, shifts=1, dims=3)))\n",
    "        tv_r = torch.abs(torch.sub(preds, torch.roll(preds, shifts=-1, dims=3)))\n",
    "        tv_lu = torch.abs(torch.sub(preds, torch.roll(preds, shifts=(1, 1), dims=(2, 3))))\n",
    "        tv_rd = torch.abs(torch.sub(preds, torch.roll(preds, shifts=(-1, -1), dims=(2, 3))))\n",
    "\n",
    "        tv_u = torch.abs(torch.sub(preds, torch.roll(preds, shifts=1, dims=2)))\n",
    "        tv_d = torch.abs(torch.sub(preds, torch.roll(preds, shifts=-1, dims=2)))\n",
    "        tv_ru = torch.abs(torch.sub(preds, torch.roll(preds, shifts=(1, -1), dims=(2, 3))))\n",
    "        tv_dl = torch.abs(torch.sub(preds, torch.roll(preds, shifts=(-1, 1), dims=(2, 3))))\n",
    "        # take mean across orientations\n",
    "        tv = torch.mean(torch.stack([tv_l, tv_r, tv_lu, tv_rd, tv_u, tv_d, tv_ru, tv_dl], dim=0), dim=0)\n",
    "\n",
    "        return tv\n",
    "    \n",
    "    def compute_grad(self, labels):\n",
    "        grads = []\n",
    "        for j in range(4):\n",
    "            tv_l = torch.abs(torch.sub((labels!=j).long(), torch.roll((labels!=j).long(), shifts=1, dims=2)))\n",
    "            tv_r = torch.abs(torch.sub((labels!=j).long(), torch.roll((labels!=j).long(), shifts=-1, dims=2)))\n",
    "            tv_u = torch.abs(torch.sub((labels!=j).long(), torch.roll((labels!=j).long(), shifts=1, dims=1)))\n",
    "            tv_d = torch.abs(torch.sub((labels!=j).long(), torch.roll((labels!=j).long(), shifts=-1, dims=1)))\n",
    "            # take max across orientations\n",
    "            this_grad, _ = torch.max(torch.stack([tv_l, tv_r, tv_u, tv_d], dim=0), dim=0)\n",
    "            grads.append(this_grad)\n",
    "\n",
    "        grad = torch.stack(grads, dim=1)\n",
    "\n",
    "        return grad\n",
    "    def forward(self, logits, labels, **kwargs):\n",
    "        # assumes logits is bs x n_classes H x W,\n",
    "        #         labels is bs x H x W containing integer values in [0,...,n_classes-1]\n",
    "        \n",
    "        grad = self.compute_grad(labels)\n",
    "        ignore_map = torch.stack([labels == 0, labels == 1, labels == 2, labels == 3], dim=1)\n",
    "        \n",
    "        perfect_logits = 1000*torch.stack([(labels==0),(labels==1),(labels==2),(labels==3)],dim=1).float()\n",
    "        tv = self.compute_tv(perfect_logits)\n",
    "        masked_tv = torch.mul(tv, ignore_map)\n",
    "        masked_tv = torch.div(masked_tv, torch.nn.Softmax(dim=1)(logits))\n",
    "        masked_tv = torch.div(masked_tv, torch.nn.Softmax(dim=1)(logits)+1e-4)\n",
    "        masked_tv = torch.mul(masked_tv, (grad==0))\n",
    "        false_positives = (masked_tv!=0)\n",
    "        \n",
    "        \n",
    "        tv = self.compute_tv(logits)\n",
    "        masked_tv = torch.mul(tv, ignore_map)\n",
    "        masked_tv[false_positives]=0\n",
    "        \n",
    "        masked_tv = torch.div(masked_tv, torch.nn.Softmax(dim=1)(logits))\n",
    "        masked_tv = torch.div(masked_tv, torch.nn.Softmax(dim=1)(logits)+1e-4)\n",
    "        masked_tv = torch.mul(masked_tv, (grad==0))\n",
    "        \n",
    "#         masked_tv[masked_tv==0.25]=0\n",
    "        \n",
    "        if self.ignore_background:\n",
    "            masked_tv = masked_tv[:, 2:, ...]\n",
    "            ignore_map = ignore_map[:, 2:, ...]\n",
    "            \n",
    "        if self.reduction == 'mean':  # 1 value for the entire batch\n",
    "            mean_per_elem_per_class = (masked_tv.sum(dim=(-2, -1)) / ignore_map.sum(dim=(-2, -1)))\n",
    "            return mean_per_elem_per_class.mean()\n",
    "        elif self.reduction == 'none':  # n_classes values per element in batch\n",
    "            return masked_tv\n",
    "        else:\n",
    "            sys.exit('not a valid reduction scheme')"
   ]
  },
  {
   "cell_type": "code",
   "execution_count": null,
   "metadata": {},
   "outputs": [],
   "source": [
    "criterion  = MaskedTV(reduction='none',ignore_background=False)"
   ]
  },
  {
   "cell_type": "code",
   "execution_count": null,
   "metadata": {},
   "outputs": [],
   "source": [
    "tv_loss_perfect  = criterion(perfect_logits, labels)\n",
    "tv_loss_perfect.mean().item(), tv_loss_perfect.max().item()"
   ]
  },
  {
   "cell_type": "code",
   "execution_count": null,
   "metadata": {},
   "outputs": [],
   "source": [
    "tv_loss  = criterion(logits, labels)\n",
    "tv_loss.mean().item(), tv_loss[0,0].max().item(), tv_loss[0,1].max().item(), \\\n",
    "tv_loss[0,2].max().item(), tv_loss[0,3].max().item()"
   ]
  },
  {
   "cell_type": "code",
   "execution_count": null,
   "metadata": {},
   "outputs": [],
   "source": [
    "imshow_pair(tv_loss[0,0,400:450,300:350].detach(), tv_loss[0,1,400:450,300:350].detach(), \n",
    "            vmin1=0,vmax1=1,vmin2=0,vmax2=1)"
   ]
  },
  {
   "cell_type": "code",
   "execution_count": null,
   "metadata": {},
   "outputs": [],
   "source": [
    "imshow_pair(tv_loss[0,2,400:450,300:350].detach(), tv_loss[0,3,400:450,300:350].detach(), \n",
    "            vmin1=0,vmax1=1,vmin2=0,vmax2=1)"
   ]
  },
  {
   "cell_type": "code",
   "execution_count": null,
   "metadata": {},
   "outputs": [],
   "source": [
    "imshow_pair(perfect_probs[0,3,400:450,300:350], tv_loss_perfect[0,3,400:450,300:350].detach(), \n",
    "            vmin1=0,vmax1=1,vmin2=0,vmax2=1)"
   ]
  },
  {
   "cell_type": "code",
   "execution_count": null,
   "metadata": {},
   "outputs": [],
   "source": [
    "criterion  = MaskedTV(ignore_background=False)\n",
    "criterion(logits, labels).item(), criterion(perfect_logits, labels).item()"
   ]
  },
  {
   "cell_type": "code",
   "execution_count": null,
   "metadata": {},
   "outputs": [],
   "source": [
    "criterion  = MaskedTV(ignore_background=False, sqrt=True)\n",
    "criterion(logits, labels).item(), criterion(perfect_logits, labels).item()"
   ]
  },
  {
   "cell_type": "code",
   "execution_count": null,
   "metadata": {},
   "outputs": [],
   "source": [
    "criterion  = MaskedTV(ignore_background=True)\n",
    "criterion(logits, labels).item(), criterion(perfect_logits, labels).item()"
   ]
  },
  {
   "cell_type": "code",
   "execution_count": null,
   "metadata": {},
   "outputs": [],
   "source": []
  }
 ],
 "metadata": {
  "kernelspec": {
   "display_name": "vessels",
   "language": "python",
   "name": "build_central"
  },
  "language_info": {
   "codemirror_mode": {
    "name": "ipython",
    "version": 3
   },
   "file_extension": ".py",
   "mimetype": "text/x-python",
   "name": "python",
   "nbconvert_exporter": "python",
   "pygments_lexer": "ipython3",
   "version": "3.7.9"
  }
 },
 "nbformat": 4,
 "nbformat_minor": 4
}
