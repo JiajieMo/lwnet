{
 "cells": [
  {
   "cell_type": "code",
   "execution_count": 1,
   "metadata": {},
   "outputs": [],
   "source": [
    "import os\n",
    "import os.path as osp\n",
    "from PIL import Image\n",
    "import pandas as pd\n",
    "from sklearn.model_selection import train_test_split\n",
    "import matplotlib.pyplot as plt\n",
    "import numpy as np\n",
    "%load_ext autoreload\n",
    "%autoreload 2\n",
    "from skimage.io import imsave, imread\n",
    "from skimage import img_as_ubyte, img_as_float\n",
    "import sys\n",
    "# sys.path.insert(0, '../utils')\n"
   ]
  },
  {
   "cell_type": "code",
   "execution_count": 2,
   "metadata": {},
   "outputs": [],
   "source": [
    "def imshow_pair(im, gdt, vmin1=None, vmax1=None, vmin2=None, vmax2=None):\n",
    "    f, ax = plt.subplots(1, 2, figsize=(12,6))\n",
    "    np_im = np.asarray(im)\n",
    "    np_gdt = np.asarray(gdt)\n",
    "    if len(np_im.shape) == 2:\n",
    "        if vmin1==None:\n",
    "            ax[0].imshow(np_im, cmap='gray'),  ax[0].axis('off')\n",
    "        else:\n",
    "            ax[0].imshow(np_im, cmap='gray', vmin=vmin1, vmax=vmax1),  ax[0].axis('off')\n",
    "    else:\n",
    "        ax[0].imshow(np_im),  ax[0].axis('off')\n",
    "    if len(np_gdt.shape) == 2:\n",
    "        if vmin2==None:\n",
    "            ax[1].imshow(np.asarray(gdt), cmap = 'gray', vmin=vmin2, vmax=vmax2), ax[1].axis('off')\n",
    "        else:\n",
    "            ax[1].imshow(np.asarray(gdt), cmap = 'gray'), ax[1].axis('off')\n",
    "    else:\n",
    "        ax[1].imshow(np.asarray(gdt)), ax[1].axis('off')\n",
    "    plt.tight_layout()"
   ]
  },
  {
   "cell_type": "code",
   "execution_count": 3,
   "metadata": {},
   "outputs": [],
   "source": [
    "import torch\n",
    "import torchvision.transforms as tr\n",
    "from utils.get_loaders import get_train_val_loaders\n",
    "from models.get_model import get_arch"
   ]
  },
  {
   "cell_type": "code",
   "execution_count": 4,
   "metadata": {},
   "outputs": [],
   "source": [
    "csv_train = 'data/DRIVE/train_av.csv'\n",
    "csv_val = csv_train.replace('train', 'val')"
   ]
  },
  {
   "cell_type": "code",
   "execution_count": 5,
   "metadata": {},
   "outputs": [],
   "source": [
    "n_classes=4\n",
    "label_values=[0, 85, 170, 255]"
   ]
  },
  {
   "cell_type": "code",
   "execution_count": 6,
   "metadata": {},
   "outputs": [],
   "source": [
    "train_loader, val_loader = get_train_val_loaders(csv_path_train=csv_train, \n",
    "                                                 csv_path_val=csv_val, \n",
    "                                                 batch_size=2, tg_size=(512,512), \n",
    "                                                 label_values=label_values, num_workers=8)"
   ]
  },
  {
   "cell_type": "code",
   "execution_count": 7,
   "metadata": {},
   "outputs": [
    {
     "name": "stdout",
     "output_type": "stream",
     "text": [
      "* Instantiating a wnet model\n"
     ]
    }
   ],
   "source": [
    "print('* Instantiating a {} model'.format('wnet'))\n",
    "model = get_arch('big_wnet', n_classes=n_classes)"
   ]
  },
  {
   "cell_type": "code",
   "execution_count": 8,
   "metadata": {},
   "outputs": [],
   "source": [
    "from utils.model_saving_loading import load_model\n",
    "model, stats = load_model(model, 'experiments/big_wnet_drive_av/', 'cpu')"
   ]
  },
  {
   "cell_type": "code",
   "execution_count": 9,
   "metadata": {},
   "outputs": [],
   "source": [
    "(inputs, labels) = next(iter(val_loader))"
   ]
  },
  {
   "cell_type": "code",
   "execution_count": 10,
   "metadata": {},
   "outputs": [],
   "source": [
    "from torch.nn import functional as F"
   ]
  },
  {
   "cell_type": "code",
   "execution_count": 11,
   "metadata": {},
   "outputs": [],
   "source": [
    "logits_aux, logits = model(inputs)\n",
    "probs = torch.nn.Softmax(dim=1)(logits).detach()"
   ]
  },
  {
   "cell_type": "code",
   "execution_count": 18,
   "metadata": {},
   "outputs": [
    {
     "data": {
      "text/plain": [
       "torch.Size([21441])"
      ]
     },
     "execution_count": 18,
     "metadata": {},
     "output_type": "execute_result"
    }
   ],
   "source": [
    "probs[:,2][labels==2].shape"
   ]
  },
  {
   "cell_type": "code",
   "execution_count": 19,
   "metadata": {},
   "outputs": [
    {
     "data": {
      "text/plain": [
       "torch.Size([21441])"
      ]
     },
     "execution_count": 19,
     "metadata": {},
     "output_type": "execute_result"
    }
   ],
   "source": [
    "torch.roll(probs[:,2][labels==2], shifts=1, dims=0).shape"
   ]
  },
  {
   "cell_type": "code",
   "execution_count": 23,
   "metadata": {},
   "outputs": [
    {
     "data": {
      "text/plain": [
       "(tensor(0.9409), tensor(0.9442))"
      ]
     },
     "execution_count": 23,
     "metadata": {},
     "output_type": "execute_result"
    }
   ],
   "source": [
    "sim_v=torch.nn.CosineSimilarity(dim=0)(probs[:,2][labels==2], torch.roll(probs[:,2][labels==2], shifts=1, dims=0))\n",
    "sim_a=torch.nn.CosineSimilarity(dim=0)(probs[:,3][labels==3], torch.roll(probs[:,3][labels==3], shifts=1, dims=0))\n",
    "sim_v, sim_a"
   ]
  },
  {
   "cell_type": "code",
   "execution_count": 24,
   "metadata": {},
   "outputs": [
    {
     "data": {
      "text/plain": [
       "(tensor(0.8823, grad_fn=<DivBackward0>),\n",
       " tensor(0.9408, grad_fn=<DivBackward0>))"
      ]
     },
     "execution_count": 24,
     "metadata": {},
     "output_type": "execute_result"
    }
   ],
   "source": [
    "sim_v=torch.nn.CosineSimilarity(dim=0)(logits[:,2][labels==2], torch.roll(logits[:,2][labels==2], shifts=1, dims=0))\n",
    "sim_a=torch.nn.CosineSimilarity(dim=0)(logits[:,3][labels==3], torch.roll(logits[:,3][labels==3], shifts=1, dims=0))\n",
    "sim_v, sim_a"
   ]
  },
  {
   "cell_type": "code",
   "execution_count": 30,
   "metadata": {},
   "outputs": [
    {
     "data": {
      "text/plain": [
       "torch.Size([2, 4, 512, 512])"
      ]
     },
     "execution_count": 30,
     "metadata": {},
     "output_type": "execute_result"
    }
   ],
   "source": [
    "probs.shape"
   ]
  },
  {
   "cell_type": "code",
   "execution_count": 37,
   "metadata": {},
   "outputs": [],
   "source": [
    "_, preds = torch.max(probs, dim=1)"
   ]
  },
  {
   "cell_type": "code",
   "execution_count": 58,
   "metadata": {},
   "outputs": [
    {
     "data": {
      "text/plain": [
       "tensor(0.6897)"
      ]
     },
     "execution_count": 58,
     "metadata": {},
     "output_type": "execute_result"
    }
   ],
   "source": [
    "(preds[labels==2] == labels[labels==2]).sum()/torch.sum(labels==2).float()"
   ]
  },
  {
   "cell_type": "code",
   "execution_count": 59,
   "metadata": {},
   "outputs": [
    {
     "data": {
      "text/plain": [
       "tensor(0.7481)"
      ]
     },
     "execution_count": 59,
     "metadata": {},
     "output_type": "execute_result"
    }
   ],
   "source": [
    "(preds[labels==3] == labels[labels==3]).sum()/torch.sum(labels==3).float()"
   ]
  },
  {
   "cell_type": "code",
   "execution_count": null,
   "metadata": {},
   "outputs": [],
   "source": []
  },
  {
   "cell_type": "code",
   "execution_count": null,
   "metadata": {},
   "outputs": [],
   "source": []
  },
  {
   "cell_type": "code",
   "execution_count": null,
   "metadata": {},
   "outputs": [],
   "source": []
  },
  {
   "cell_type": "code",
   "execution_count": null,
   "metadata": {},
   "outputs": [],
   "source": []
  },
  {
   "cell_type": "code",
   "execution_count": 12,
   "metadata": {},
   "outputs": [],
   "source": [
    "labels_map = torch.stack([labels==0,labels==1,labels==2,labels==3], dim=1)"
   ]
  },
  {
   "cell_type": "code",
   "execution_count": 13,
   "metadata": {},
   "outputs": [],
   "source": [
    "similarity_veins, similarity_arteries = [], []\n",
    "\n",
    "translated = torch.roll(probs, shifts=1, dims=3)\n",
    "sim_along_veins = torch.nn.CosineSimilarity(dim=0)(probs[:,2][labels==2], translated[:,2][labels==2])\n",
    "sim_along_arteries = torch.nn.CosineSimilarity(dim=0)(probs[:,3][labels==3], translated[:,3][labels==3])\n",
    "\n",
    "similarity_veins.append(sim_along_veins)\n",
    "similarity_arteries.append(sim_along_arteries)\n",
    "\n",
    "translated = torch.roll(probs, shifts=-1, dims=3)\n",
    "sim_along_veins = torch.nn.CosineSimilarity(dim=0)(probs[:,2][labels==2], translated[:,2][labels==2])\n",
    "sim_along_arteries = torch.nn.CosineSimilarity(dim=0)(probs[:,3][labels==3], translated[:,3][labels==3])\n",
    "\n",
    "similarity_veins.append(sim_along_veins)\n",
    "similarity_arteries.append(sim_along_arteries)\n",
    "\n",
    "translated = torch.roll(probs, shifts=1, dims=2)\n",
    "sim_along_veins = torch.nn.CosineSimilarity(dim=0)(probs[:,2][labels==2], translated[:,2][labels==2])\n",
    "sim_along_arteries = torch.nn.CosineSimilarity(dim=0)(probs[:,3][labels==3], translated[:,3][labels==3])\n",
    "\n",
    "similarity_veins.append(sim_along_veins)\n",
    "similarity_arteries.append(sim_along_arteries)\n",
    "\n",
    "translated = torch.roll(probs, shifts=-1, dims=2)\n",
    "sim_along_veins = torch.nn.CosineSimilarity(dim=0)(probs[:,2][labels==2], translated[:,2][labels==2])\n",
    "sim_along_arteries = torch.nn.CosineSimilarity(dim=0)(probs[:,3][labels==3], translated[:,3][labels==3])\n",
    "\n",
    "similarity_veins.append(sim_along_veins)\n",
    "similarity_arteries.append(sim_along_arteries)"
   ]
  },
  {
   "cell_type": "code",
   "execution_count": 14,
   "metadata": {},
   "outputs": [],
   "source": [
    "sim_veins = torch.mean(torch.stack(similarity_veins, dim=0), dim=0)\n",
    "sim_arts = torch.mean(torch.stack(similarity_arteries, dim=0), dim=0)"
   ]
  },
  {
   "cell_type": "code",
   "execution_count": 17,
   "metadata": {},
   "outputs": [
    {
     "data": {
      "text/plain": [
       "(tensor(0.9613), tensor(0.9655))"
      ]
     },
     "execution_count": 17,
     "metadata": {},
     "output_type": "execute_result"
    }
   ],
   "source": [
    "sim_veins, sim_arts"
   ]
  },
  {
   "cell_type": "code",
   "execution_count": null,
   "metadata": {},
   "outputs": [],
   "source": []
  },
  {
   "cell_type": "code",
   "execution_count": 18,
   "metadata": {},
   "outputs": [],
   "source": [
    "class SimilarityLoss(torch.nn.Module):\n",
    "    def __init__(self, with_probs=True, reduction='mean'):\n",
    "        super(SimilarityLoss, self).__init__()\n",
    "        self.with_probs=with_probs\n",
    "        self.reduction=reduction\n",
    "\n",
    "    def forward(self, logits, labels, **kwargs):\n",
    "        # assumes logits is bs x n_classes H x W, \n",
    "        #         labels is bs x H x W containing integer values in [0,...,n_classes-1]\n",
    "        if self.with_probs:\n",
    "            probs = torch.nn.Softmax(dim=1)(logits).detach()\n",
    "        else:\n",
    "            probs=logits\n",
    "            \n",
    "        similarity_veins, similarity_arteries = [], []\n",
    "\n",
    "        translated = torch.roll(probs, shifts=1, dims=3)\n",
    "        sim_along_veins = torch.nn.CosineSimilarity(dim=0)(probs[:,2][labels==2], translated[:,2][labels==2])\n",
    "        sim_along_arteries = torch.nn.CosineSimilarity(dim=0)(probs[:,3][labels==3], translated[:,3][labels==3])\n",
    "\n",
    "        similarity_veins.append(sim_along_veins)\n",
    "        similarity_arteries.append(sim_along_arteries)\n",
    "\n",
    "        translated = torch.roll(probs, shifts=-1, dims=3)\n",
    "        sim_along_veins = torch.nn.CosineSimilarity(dim=0)(probs[:,2][labels==2], translated[:,2][labels==2])\n",
    "        sim_along_arteries = torch.nn.CosineSimilarity(dim=0)(probs[:,3][labels==3], translated[:,3][labels==3])\n",
    "\n",
    "        similarity_veins.append(sim_along_veins)\n",
    "        similarity_arteries.append(sim_along_arteries)\n",
    "\n",
    "        translated = torch.roll(probs, shifts=1, dims=2)\n",
    "        sim_along_veins = torch.nn.CosineSimilarity(dim=0)(probs[:,2][labels==2], translated[:,2][labels==2])\n",
    "        sim_along_arteries = torch.nn.CosineSimilarity(dim=0)(probs[:,3][labels==3], translated[:,3][labels==3])\n",
    "\n",
    "        similarity_veins.append(sim_along_veins)\n",
    "        similarity_arteries.append(sim_along_arteries)\n",
    "\n",
    "        translated = torch.roll(probs, shifts=-1, dims=2)\n",
    "        sim_along_veins = torch.nn.CosineSimilarity(dim=0)(probs[:,2][labels==2], translated[:,2][labels==2])\n",
    "        sim_along_arteries = torch.nn.CosineSimilarity(dim=0)(probs[:,3][labels==3], translated[:,3][labels==3])\n",
    "\n",
    "        similarity_veins.append(sim_along_veins)\n",
    "        similarity_arteries.append(sim_along_arteries)\n",
    "        \n",
    "        sim_veins = torch.mean(torch.stack(similarity_veins, dim=0), dim=0)\n",
    "        sim_arts = torch.mean(torch.stack(similarity_arteries, dim=0), dim=0)\n",
    "        \n",
    "        if self.reduction=='mean': # 1 value for the entire batch\n",
    "            return torch.mean(torch.stack([sim_veins, sim_arts], dim=0), dim=0)\n",
    "        elif self.reduction=='none': # n_classes values per element in batch\n",
    "            return [sim_veins, sim_arts]\n",
    "        else: sys.exit('not a valid reduction scheme')"
   ]
  },
  {
   "cell_type": "code",
   "execution_count": 24,
   "metadata": {},
   "outputs": [],
   "source": [
    "criterion = SimilarityLoss(reduction='mean', with_probs=False)"
   ]
  },
  {
   "cell_type": "code",
   "execution_count": 28,
   "metadata": {},
   "outputs": [
    {
     "data": {
      "text/plain": [
       "tensor(0.9598, grad_fn=<MeanBackward1>)"
      ]
     },
     "execution_count": 28,
     "metadata": {},
     "output_type": "execute_result"
    }
   ],
   "source": [
    "l = criterion(logits, labels)\n",
    "l"
   ]
  },
  {
   "cell_type": "code",
   "execution_count": 29,
   "metadata": {},
   "outputs": [],
   "source": [
    "model = get_arch('big_wnet', n_classes=n_classes)\n",
    "logits_aux, logits = model(inputs)"
   ]
  },
  {
   "cell_type": "code",
   "execution_count": 30,
   "metadata": {},
   "outputs": [
    {
     "data": {
      "text/plain": [
       "tensor(0.2505, grad_fn=<MeanBackward1>)"
      ]
     },
     "execution_count": 30,
     "metadata": {},
     "output_type": "execute_result"
    }
   ],
   "source": [
    "l = criterion(logits, labels)\n",
    "l"
   ]
  },
  {
   "cell_type": "code",
   "execution_count": null,
   "metadata": {},
   "outputs": [],
   "source": []
  }
 ],
 "metadata": {
  "kernelspec": {
   "display_name": "vessels",
   "language": "python",
   "name": "build_central"
  },
  "language_info": {
   "codemirror_mode": {
    "name": "ipython",
    "version": 3
   },
   "file_extension": ".py",
   "mimetype": "text/x-python",
   "name": "python",
   "nbconvert_exporter": "python",
   "pygments_lexer": "ipython3",
   "version": "3.7.9"
  }
 },
 "nbformat": 4,
 "nbformat_minor": 4
}
