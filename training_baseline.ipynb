{
 "cells": [
  {
   "cell_type": "code",
   "execution_count": 1,
   "metadata": {},
   "outputs": [],
   "source": [
    "import os\n",
    "import os.path as osp\n",
    "from PIL import Image\n",
    "import matplotlib.pyplot as plt\n",
    "import numpy as np\n",
    "from skimage.io import imsave, imread\n",
    "from skimage import img_as_ubyte, img_as_float\n",
    "import sys\n",
    "import torch\n",
    "\n",
    "%load_ext autoreload\n",
    "%autoreload 2"
   ]
  },
  {
   "cell_type": "code",
   "execution_count": 2,
   "metadata": {},
   "outputs": [],
   "source": [
    "def imshow_pair(im, gdt, vmin1=None, vmax1=None, vmin2=None, vmax2=None):\n",
    "    f, ax = plt.subplots(1, 2, figsize=(10,5))\n",
    "    np_im = np.asarray(im)\n",
    "    np_gdt = np.asarray(gdt)\n",
    "    if len(np_im.shape) == 2:\n",
    "        if vmin1==None:\n",
    "            ax[0].imshow(np_im, cmap='gray'),  ax[0].axis('off')\n",
    "        else:\n",
    "            ax[0].imshow(np_im, cmap='gray', vmin=vmin1, vmax=vmax1),  ax[0].axis('off')\n",
    "    else:\n",
    "        ax[0].imshow(np_im),  ax[0].axis('off')\n",
    "    if len(np_gdt.shape) == 2:\n",
    "        if vmin2==None:\n",
    "            ax[1].imshow(np.asarray(gdt), cmap = 'gray', vmin=vmin2, vmax=vmax2), ax[1].axis('off')\n",
    "        else:\n",
    "            ax[1].imshow(np.asarray(gdt), cmap = 'gray'), ax[1].axis('off')\n",
    "    else:\n",
    "        ax[1].imshow(np.asarray(gdt)), ax[1].axis('off')\n",
    "    plt.tight_layout()\n",
    "    return f"
   ]
  },
  {
   "cell_type": "code",
   "execution_count": 3,
   "metadata": {
    "scrolled": true
   },
   "outputs": [],
   "source": [
    "from tqdm import trange"
   ]
  },
  {
   "cell_type": "code",
   "execution_count": 4,
   "metadata": {
    "scrolled": true
   },
   "outputs": [],
   "source": [
    "def get_lr(optimizer):\n",
    "    for param_group in optimizer.param_groups:\n",
    "        return param_group['lr']"
   ]
  },
  {
   "cell_type": "code",
   "execution_count": 6,
   "metadata": {
    "scrolled": true
   },
   "outputs": [],
   "source": [
    "from monai.metrics import DiceMetric\n",
    "dice_metric = DiceMetric(mutually_exclusive=True, to_onehot_y=True, reduction='none')"
   ]
  },
  {
   "cell_type": "code",
   "execution_count": 7,
   "metadata": {
    "scrolled": true
   },
   "outputs": [],
   "source": [
    "from sklearn.metrics import f1_score\n",
    "from sklearn.metrics import matthews_corrcoef as mcc\n",
    "\n",
    "def evaluate(logits, labels):\n",
    "    all_targets = []\n",
    "    all_probs_0 = []\n",
    "    all_probs_1 = []\n",
    "    all_probs_2 = []\n",
    "    all_probs_3 = []\n",
    "\n",
    "    for i in range(len(logits)):\n",
    "        probs = torch.nn.Softmax(dim=0)(logits[i]).detach().cpu().numpy()\n",
    "        all_probs_0.extend(probs[0].ravel())\n",
    "        all_probs_1.extend(probs[1].ravel())\n",
    "        all_probs_2.extend(probs[2].ravel())\n",
    "        all_probs_3.extend(probs[3].ravel())\n",
    "\n",
    "        target = labels[i].numpy()\n",
    "\n",
    "        all_targets.append(target.ravel())\n",
    "\n",
    "    all_probs_np = np.stack([all_probs_0, all_probs_1, all_probs_2, all_probs_3], axis=1)\n",
    "    all_preds_np = np.argmax(all_probs_np, axis=1)\n",
    "    all_targets_np = np.hstack(all_targets)\n",
    "\n",
    "    return f1_score(all_targets_np, all_preds_np,average='weighted'), mcc(all_targets_np, all_preds_np)"
   ]
  },
  {
   "cell_type": "code",
   "execution_count": 8,
   "metadata": {
    "scrolled": true
   },
   "outputs": [
    {
     "data": {
      "text/plain": [
       "device(type='cuda', index=0)"
      ]
     },
     "execution_count": 8,
     "metadata": {},
     "output_type": "execute_result"
    }
   ],
   "source": [
    "device = torch.device(\"cuda:0\" if torch.cuda.is_available() else \"cpu:0\")\n",
    "device"
   ]
  },
  {
   "cell_type": "markdown",
   "metadata": {},
   "source": [
    "## Loading Datasets\n",
    "\n",
    "With a data source and transforms defined we can now create a dataset object. The base class for MONAI is `Dataset`, created here to load the image files only:"
   ]
  },
  {
   "cell_type": "code",
   "execution_count": 9,
   "metadata": {
    "scrolled": true
   },
   "outputs": [],
   "source": [
    "from utils.get_loaders import get_train_val_loaders\n",
    "\n",
    "train_loader, val_loader = get_train_val_loaders(csv_path_train='data/DRIVE/train_av.csv', \n",
    "                                                 csv_path_val='data/DRIVE/val_av.csv', batch_size=4,\n",
    "                                                 tg_size=(512,512), label_values=[0, 85, 170, 255], \n",
    "                                                 num_workers=8)"
   ]
  },
  {
   "cell_type": "code",
   "execution_count": 15,
   "metadata": {
    "scrolled": true
   },
   "outputs": [],
   "source": [
    "def run_one_epoch(loader, model, criterion, optimizer=None, scheduler=None,\n",
    "                  grad_acc_steps=0, assess=False, save_plot=False, cycle=0):\n",
    "    device='cuda' if next(model.parameters()).is_cuda else 'cpu'\n",
    "    train = optimizer is not None  # if we are in training mode there will be an optimizer and train=True here\n",
    "\n",
    "    if train: model.train()\n",
    "    else: model.eval()\n",
    "        \n",
    "    if assess: dice_bck, dice_arteries, dice_veins, f1_scs, mcc_scs = 0, 0, 0, [], []\n",
    "    n_elems, running_loss = 0, 0\n",
    "    wnet=False\n",
    "    for i_batch, batch_data in enumerate(loader):\n",
    "        try:\n",
    "            inputs, labels = (batch_data[\"img\"].to(device), batch_data[\"seg\"].to(device), )\n",
    "        except:\n",
    "            inputs, labels = batch_data[0].to(device), batch_data[1].unsqueeze(dim=1).to(device)\n",
    "            \n",
    "            \n",
    "        if train:  # only in training mode               \n",
    "            logits = model(inputs)\n",
    "            if isinstance(logits, tuple): # wnet\n",
    "                wnet=True\n",
    "                logits_aux, logits = logits\n",
    "                loss_aux = criterion(logits_aux, labels.squeeze())\n",
    "            loss = criterion(logits, labels.squeeze())\n",
    "            if wnet:\n",
    "                loss+=loss_aux\n",
    "                \n",
    "            (loss / (grad_acc_steps + 1)).backward()\n",
    "            if i_batch % (grad_acc_steps+1) == 0:  # for grad_acc_steps=0, this is always True\n",
    "                optimizer.step()\n",
    "                for _ in range(grad_acc_steps+1): scheduler.step() # for grad_acc_steps=0, this means once\n",
    "                optimizer.zero_grad()\n",
    "        \n",
    "        else:\n",
    "            logits = model(inputs)\n",
    "            if isinstance(logits, tuple): # wnet\n",
    "                wnet=True\n",
    "                logits_aux, logits = logits\n",
    "                loss_aux = criterion(logits_aux, labels.squeeze())\n",
    "            loss = criterion(logits, labels.squeeze(dim=1))\n",
    "\n",
    "            if wnet:\n",
    "                loss+=loss_aux\n",
    "\n",
    "            if assess:\n",
    "                dice_bck, dice_unc, dice_arteries, dice_veins = dice_metric(logits, labels).mean(dim=0)\n",
    "                if save_plot:\n",
    "                    for j in range(logits.shape[0]):\n",
    "                        preds = torch.argmax(logits,dim=1)\n",
    "                        im_name = batch_data['img_meta_dict']['filename_or_obj'][j].split('/')[-1].split('.')[-2]\n",
    "                        s_name = 'logs/displays/{}_cycle_{}.png'.format(im_name, cycle)\n",
    "                        f=imshow_pair(preds[j].cpu(), labels[j].squeeze().cpu())\n",
    "#                         f.savefig(s_name)\n",
    "#                         plt.close(f)\n",
    "                \n",
    "                f1_s, mcc_s = evaluate(logits.detach().cpu(), labels.cpu())\n",
    "                f1_scs.append(f1_s)\n",
    "                mcc_scs.append(mcc_s)\n",
    "        # Compute running loss\n",
    "        running_loss += loss.item() * inputs.size(0)\n",
    "        n_elems += inputs.size(0)\n",
    "        run_loss = running_loss / n_elems\n",
    "            \n",
    "    if assess: return dice_bck, dice_arteries, dice_veins, \\\n",
    "                      np.array(f1_scs).mean(), np.array(mcc_scs).mean(), run_loss\n",
    "    return None, None, None, None, None, run_loss"
   ]
  },
  {
   "cell_type": "code",
   "execution_count": 16,
   "metadata": {
    "scrolled": true
   },
   "outputs": [],
   "source": [
    "def train_one_cycle(train_loader, model, criterion, optimizer=None, scheduler=None, grad_acc_steps=0, cycle=0):\n",
    "    # prepare next cycle:\n",
    "    # reset iteration counter\n",
    "    scheduler.last_epoch = -1\n",
    "    # update number of iterations\n",
    "\n",
    "    scheduler.T_max = scheduler.cycle_lens[cycle] * len(train_loader)\n",
    "    \n",
    "    model.train()\n",
    "    optimizer.zero_grad()\n",
    "    cycle_len = scheduler.cycle_lens[cycle]\n",
    "    with trange(cycle_len) as t:\n",
    "        for epoch in range(cycle_len):\n",
    "            if epoch == cycle_len-1: assess=True # only compute performance on last epoch\n",
    "            else: assess = False\n",
    "                \n",
    "            d_bck, d_arts, d_veins, \\\n",
    "            f1_sc, mcc_sc, tr_loss = run_one_epoch(train_loader, model, criterion, optimizer=optimizer,\n",
    "                                                          scheduler=scheduler, grad_acc_steps=grad_acc_steps, \n",
    "                                                          assess=assess, cycle=cycle)\n",
    "            t.set_postfix_str(\"Cycle: {}/{} Ep. {}/{} -- tr. loss={:.4f} / lr={:.6f}\".format(cycle+1, \n",
    "                                                                                    len(scheduler.cycle_lens),\n",
    "                                                                                    epoch+1, cycle_len,\n",
    "                                                                                    float(tr_loss), \n",
    "                                                                                    get_lr(optimizer)))\n",
    "            t.update()\n",
    "    return d_bck, d_arts, d_veins, f1_sc, mcc_sc, tr_loss"
   ]
  },
  {
   "cell_type": "markdown",
   "metadata": {},
   "source": [
    "# TV LOADERS"
   ]
  },
  {
   "cell_type": "code",
   "execution_count": 18,
   "metadata": {
    "scrolled": true
   },
   "outputs": [],
   "source": [
    "n_classes=4"
   ]
  },
  {
   "cell_type": "code",
   "execution_count": 19,
   "metadata": {
    "scrolled": true
   },
   "outputs": [
    {
     "data": {
      "text/plain": [
       "68776"
      ]
     },
     "execution_count": 19,
     "metadata": {},
     "output_type": "execute_result"
    }
   ],
   "source": [
    "from models.res_unet_adrian import UNet as unet\n",
    "\n",
    "class Wnet(torch.nn.Module):\n",
    "    def __init__(self, n_classes=1, in_c=3, layers=(8, 16, 32), conv_bridge=True, shortcut=True, mode='train'):\n",
    "        super(Wnet, self).__init__()\n",
    "        self.mode=mode\n",
    "        self.unet1 = unet(in_c=in_c, n_classes=n_classes, layers=layers, conv_bridge=conv_bridge, shortcut=shortcut)\n",
    "        self.unet2 = unet(in_c=in_c+n_classes, n_classes=n_classes, layers=layers, conv_bridge=conv_bridge, shortcut=shortcut)\n",
    "\n",
    "    def forward(self, x):\n",
    "        x1 = self.unet1(x)\n",
    "        x2 = self.unet2(torch.cat([x, x1], dim=1))\n",
    "        if self.mode!='train':\n",
    "            return x2\n",
    "        return x1,x2\n",
    "\n",
    "model = Wnet(in_c=3, n_classes=n_classes, layers=[8,16,32])\n",
    "model_parameters = filter(lambda p: p.requires_grad, model.parameters())\n",
    "params = sum([np.prod(p.size()) for p in model_parameters])\n",
    "model.to(device);\n",
    "params"
   ]
  },
  {
   "cell_type": "code",
   "execution_count": 20,
   "metadata": {
    "scrolled": true
   },
   "outputs": [],
   "source": [
    "cycle_lens = [20, 50]\n",
    "grad_acc_steps=0\n",
    "n_cycles = cycle_lens[0]\n",
    "min_lr = 1e-8"
   ]
  },
  {
   "cell_type": "code",
   "execution_count": 21,
   "metadata": {
    "scrolled": true
   },
   "outputs": [],
   "source": [
    "if len(cycle_lens)==2: # handles option of specifying cycles as pair (n_cycles, cycle_len)\n",
    "    cycle_lens = cycle_lens[0]*[cycle_lens[1]]"
   ]
  },
  {
   "cell_type": "code",
   "execution_count": 23,
   "metadata": {
    "scrolled": true
   },
   "outputs": [],
   "source": [
    "optimizer = torch.optim.Adam(model.parameters(), 1e-2)\n",
    "criterion = torch.nn.CrossEntropyLoss()\n",
    "\n",
    "scheduler = torch.optim.lr_scheduler.CosineAnnealingLR(optimizer, \n",
    "                              T_max=cycle_lens[0] * len(train_loader) // (grad_acc_steps + 1), \n",
    "                              eta_min=min_lr)\n",
    "setattr(scheduler, 'cycle_lens', cycle_lens)"
   ]
  },
  {
   "cell_type": "code",
   "execution_count": 24,
   "metadata": {
    "scrolled": false
   },
   "outputs": [
    {
     "name": "stderr",
     "output_type": "stream",
     "text": [
      " 98%|█████████▊| 49/50 [00:51<00:01,  1.04s/it, Cycle: 1/20 Ep. 49/50 -- tr. loss=0.4306 / lr=0.000015]Mean of empty slice.\n",
      "invalid value encountered in double_scalars\n",
      "100%|██████████| 50/50 [00:53<00:00,  1.06s/it, Cycle: 1/20 Ep. 50/50 -- tr. loss=0.4272 / lr=0.000001]\n",
      "  0%|          | 0/50 [00:00<?, ?it/s]"
     ]
    },
    {
     "name": "stdout",
     "output_type": "stream",
     "text": [
      "Train/Val Loss: 0.4391/0.3960 -- per-class Train/Val DICE: 0.9667/0.9749 | 0.0000/0.0000 | 0.5838/0.5859\n",
      "Train/Val F1|MCC: 0.9051/0.9133 | 0.5334/0.5634\n"
     ]
    },
    {
     "name": "stderr",
     "output_type": "stream",
     "text": [
      "100%|██████████| 50/50 [00:52<00:00,  1.04s/it, Cycle: 2/20 Ep. 50/50 -- tr. loss=0.3776 / lr=0.000001]\n",
      "  0%|          | 0/50 [00:00<?, ?it/s]"
     ]
    },
    {
     "name": "stdout",
     "output_type": "stream",
     "text": [
      "Train/Val Loss: 0.3818/0.3619 -- per-class Train/Val DICE: 0.9735/0.9773 | 0.3946/0.4435 | 0.5802/0.5912\n",
      "Train/Val F1|MCC: 0.9276/0.9335 | 0.6016/0.6242\n"
     ]
    },
    {
     "name": "stderr",
     "output_type": "stream",
     "text": [
      "100%|██████████| 50/50 [00:52<00:00,  1.05s/it, Cycle: 3/20 Ep. 50/50 -- tr. loss=0.3439 / lr=0.000001]\n",
      "  0%|          | 0/50 [00:00<?, ?it/s]"
     ]
    },
    {
     "name": "stdout",
     "output_type": "stream",
     "text": [
      "Train/Val Loss: 0.3675/0.3369 -- per-class Train/Val DICE: 0.9794/0.9782 | 0.5161/0.4978 | 0.5998/0.6298\n",
      "Train/Val F1|MCC: 0.9308/0.9389 | 0.6309/0.6558\n"
     ]
    },
    {
     "name": "stderr",
     "output_type": "stream",
     "text": [
      "100%|██████████| 50/50 [00:52<00:00,  1.05s/it, Cycle: 4/20 Ep. 50/50 -- tr. loss=0.3223 / lr=0.000001]\n",
      "  0%|          | 0/50 [00:00<?, ?it/s]"
     ]
    },
    {
     "name": "stdout",
     "output_type": "stream",
     "text": [
      "Train/Val Loss: 0.3248/0.3187 -- per-class Train/Val DICE: 0.9780/0.9780 | 0.5565/0.5619 | 0.6752/0.6716\n",
      "Train/Val F1|MCC: 0.9417/0.9437 | 0.6731/0.6837\n"
     ]
    },
    {
     "name": "stderr",
     "output_type": "stream",
     "text": [
      "100%|██████████| 50/50 [00:52<00:00,  1.05s/it, Cycle: 5/20 Ep. 50/50 -- tr. loss=0.3182 / lr=0.000001]\n",
      "  0%|          | 0/50 [00:00<?, ?it/s]"
     ]
    },
    {
     "name": "stdout",
     "output_type": "stream",
     "text": [
      "Train/Val Loss: 0.3140/0.3038 -- per-class Train/Val DICE: 0.9800/0.9784 | 0.5400/0.6019 | 0.6782/0.6958\n",
      "Train/Val F1|MCC: 0.9435/0.9469 | 0.6828/0.7010\n"
     ]
    },
    {
     "name": "stderr",
     "output_type": "stream",
     "text": [
      "100%|██████████| 50/50 [00:52<00:00,  1.05s/it, Cycle: 6/20 Ep. 50/50 -- tr. loss=0.3165 / lr=0.000001]\n",
      "  0%|          | 0/50 [00:00<?, ?it/s]"
     ]
    },
    {
     "name": "stdout",
     "output_type": "stream",
     "text": [
      "Train/Val Loss: 0.3121/0.2969 -- per-class Train/Val DICE: 0.9750/0.9783 | 0.5893/0.6305 | 0.6774/0.7066\n",
      "Train/Val F1|MCC: 0.9443/0.9487 | 0.6889/0.7119\n"
     ]
    },
    {
     "name": "stderr",
     "output_type": "stream",
     "text": [
      "100%|██████████| 50/50 [00:52<00:00,  1.05s/it, Cycle: 7/20 Ep. 50/50 -- tr. loss=0.2959 / lr=0.000001]\n",
      "  0%|          | 0/50 [00:00<?, ?it/s]"
     ]
    },
    {
     "name": "stdout",
     "output_type": "stream",
     "text": [
      "Train/Val Loss: 0.2942/0.2906 -- per-class Train/Val DICE: 0.9776/0.9784 | 0.6209/0.6452 | 0.6979/0.7100\n",
      "Train/Val F1|MCC: 0.9480/0.9496 | 0.7059/0.7154\n"
     ]
    },
    {
     "name": "stderr",
     "output_type": "stream",
     "text": [
      "100%|██████████| 50/50 [00:52<00:00,  1.05s/it, Cycle: 8/20 Ep. 50/50 -- tr. loss=0.3061 / lr=0.000001]\n",
      "  0%|          | 0/50 [00:00<?, ?it/s]"
     ]
    },
    {
     "name": "stdout",
     "output_type": "stream",
     "text": [
      "Train/Val Loss: 0.3045/0.2840 -- per-class Train/Val DICE: 0.9785/0.9786 | 0.6202/0.6548 | 0.7001/0.7157\n",
      "Train/Val F1|MCC: 0.9463/0.9505 | 0.7083/0.7199\n"
     ]
    },
    {
     "name": "stderr",
     "output_type": "stream",
     "text": [
      "100%|██████████| 50/50 [00:52<00:00,  1.05s/it, Cycle: 9/20 Ep. 50/50 -- tr. loss=0.2937 / lr=0.000001]\n",
      "  0%|          | 0/50 [00:00<?, ?it/s]"
     ]
    },
    {
     "name": "stdout",
     "output_type": "stream",
     "text": [
      "Train/Val Loss: 0.3058/0.2820 -- per-class Train/Val DICE: 0.9775/0.9787 | 0.6405/0.6555 | 0.7007/0.7173\n",
      "Train/Val F1|MCC: 0.9457/0.9506 | 0.7045/0.7214\n"
     ]
    },
    {
     "name": "stderr",
     "output_type": "stream",
     "text": [
      "100%|██████████| 50/50 [00:52<00:00,  1.05s/it, Cycle: 10/20 Ep. 50/50 -- tr. loss=0.2857 / lr=0.000001]\n",
      "  0%|          | 0/50 [00:00<?, ?it/s]"
     ]
    },
    {
     "name": "stdout",
     "output_type": "stream",
     "text": [
      "Train/Val Loss: 0.2893/0.2809 -- per-class Train/Val DICE: 0.9788/0.9785 | 0.6525/0.6582 | 0.7107/0.7169\n",
      "Train/Val F1|MCC: 0.9493/0.9506 | 0.7140/0.7219\n"
     ]
    },
    {
     "name": "stderr",
     "output_type": "stream",
     "text": [
      "100%|██████████| 50/50 [00:52<00:00,  1.05s/it, Cycle: 11/20 Ep. 50/50 -- tr. loss=0.2815 / lr=0.000001]\n",
      "  0%|          | 0/50 [00:00<?, ?it/s]"
     ]
    },
    {
     "name": "stdout",
     "output_type": "stream",
     "text": [
      "Train/Val Loss: 0.3073/0.2751 -- per-class Train/Val DICE: 0.9759/0.9788 | 0.6805/0.6701 | 0.7104/0.7268\n",
      "Train/Val F1|MCC: 0.9462/0.9519 | 0.7201/0.7285\n"
     ]
    },
    {
     "name": "stderr",
     "output_type": "stream",
     "text": [
      "100%|██████████| 50/50 [00:52<00:00,  1.05s/it, Cycle: 12/20 Ep. 50/50 -- tr. loss=0.2758 / lr=0.000001]\n",
      "  0%|          | 0/50 [00:00<?, ?it/s]"
     ]
    },
    {
     "name": "stdout",
     "output_type": "stream",
     "text": [
      "Train/Val Loss: 0.2767/0.2727 -- per-class Train/Val DICE: 0.9822/0.9787 | 0.6803/0.6745 | 0.7016/0.7284\n",
      "Train/Val F1|MCC: 0.9513/0.9521 | 0.7206/0.7298\n"
     ]
    },
    {
     "name": "stderr",
     "output_type": "stream",
     "text": [
      "100%|██████████| 50/50 [00:52<00:00,  1.05s/it, Cycle: 13/20 Ep. 50/50 -- tr. loss=0.2841 / lr=0.000001]\n",
      "  0%|          | 0/50 [00:00<?, ?it/s]"
     ]
    },
    {
     "name": "stdout",
     "output_type": "stream",
     "text": [
      "Train/Val Loss: 0.2801/0.2719 -- per-class Train/Val DICE: 0.9808/0.9788 | 0.6169/0.6775 | 0.7051/0.7266\n",
      "Train/Val F1|MCC: 0.9507/0.9522 | 0.7213/0.7304\n"
     ]
    },
    {
     "name": "stderr",
     "output_type": "stream",
     "text": [
      "100%|██████████| 50/50 [00:52<00:00,  1.05s/it, Cycle: 14/20 Ep. 50/50 -- tr. loss=0.2698 / lr=0.000001]\n",
      "  0%|          | 0/50 [00:00<?, ?it/s]"
     ]
    },
    {
     "name": "stdout",
     "output_type": "stream",
     "text": [
      "Train/Val Loss: 0.2867/0.2719 -- per-class Train/Val DICE: 0.9789/0.9784 | 0.6937/0.6710 | 0.7468/0.7270\n",
      "Train/Val F1|MCC: 0.9496/0.9516 | 0.7267/0.7273\n"
     ]
    },
    {
     "name": "stderr",
     "output_type": "stream",
     "text": [
      "100%|██████████| 50/50 [00:52<00:00,  1.05s/it, Cycle: 15/20 Ep. 50/50 -- tr. loss=0.2945 / lr=0.000001]\n",
      "  0%|          | 0/50 [00:00<?, ?it/s]"
     ]
    },
    {
     "name": "stdout",
     "output_type": "stream",
     "text": [
      "Train/Val Loss: 0.2669/0.2694 -- per-class Train/Val DICE: 0.9783/0.9785 | 0.7037/0.6828 | 0.7582/0.7313\n",
      "Train/Val F1|MCC: 0.9534/0.9524 | 0.7400/0.7323\n"
     ]
    },
    {
     "name": "stderr",
     "output_type": "stream",
     "text": [
      "100%|██████████| 50/50 [00:52<00:00,  1.05s/it, Cycle: 16/20 Ep. 50/50 -- tr. loss=0.2807 / lr=0.000001]\n",
      "  0%|          | 0/50 [00:00<?, ?it/s]"
     ]
    },
    {
     "name": "stdout",
     "output_type": "stream",
     "text": [
      "Train/Val Loss: 0.2742/0.2682 -- per-class Train/Val DICE: 0.9810/0.9787 | 0.6791/0.6796 | 0.7280/0.7342\n",
      "Train/Val F1|MCC: 0.9522/0.9526 | 0.7364/0.7338\n"
     ]
    },
    {
     "name": "stderr",
     "output_type": "stream",
     "text": [
      "100%|██████████| 50/50 [00:52<00:00,  1.05s/it, Cycle: 17/20 Ep. 50/50 -- tr. loss=0.2727 / lr=0.000001]\n",
      "  0%|          | 0/50 [00:00<?, ?it/s]"
     ]
    },
    {
     "name": "stdout",
     "output_type": "stream",
     "text": [
      "Train/Val Loss: 0.2704/0.2700 -- per-class Train/Val DICE: 0.9758/0.9784 | 0.6679/0.6788 | 0.7296/0.7293\n",
      "Train/Val F1|MCC: 0.9528/0.9520 | 0.7420/0.7306\n"
     ]
    },
    {
     "name": "stderr",
     "output_type": "stream",
     "text": [
      "100%|██████████| 50/50 [00:52<00:00,  1.05s/it, Cycle: 18/20 Ep. 50/50 -- tr. loss=0.2663 / lr=0.000001]\n",
      "  0%|          | 0/50 [00:00<?, ?it/s]"
     ]
    },
    {
     "name": "stdout",
     "output_type": "stream",
     "text": [
      "Train/Val Loss: 0.2710/0.2666 -- per-class Train/Val DICE: 0.9784/0.9785 | 0.7200/0.6809 | 0.7525/0.7343\n",
      "Train/Val F1|MCC: 0.9530/0.9525 | 0.7449/0.7326\n"
     ]
    },
    {
     "name": "stderr",
     "output_type": "stream",
     "text": [
      "100%|██████████| 50/50 [00:52<00:00,  1.05s/it, Cycle: 19/20 Ep. 50/50 -- tr. loss=0.2685 / lr=0.000001]\n",
      "  0%|          | 0/50 [00:00<?, ?it/s]"
     ]
    },
    {
     "name": "stdout",
     "output_type": "stream",
     "text": [
      "Train/Val Loss: 0.2735/0.2615 -- per-class Train/Val DICE: 0.9768/0.9789 | 0.6702/0.6844 | 0.7362/0.7381\n",
      "Train/Val F1|MCC: 0.9520/0.9532 | 0.7277/0.7359\n"
     ]
    },
    {
     "name": "stderr",
     "output_type": "stream",
     "text": [
      "100%|██████████| 50/50 [00:52<00:00,  1.05s/it, Cycle: 20/20 Ep. 50/50 -- tr. loss=0.2664 / lr=0.000001]\n"
     ]
    },
    {
     "name": "stdout",
     "output_type": "stream",
     "text": [
      "Train/Val Loss: 0.2669/0.2655 -- per-class Train/Val DICE: 0.9789/0.9788 | 0.7134/0.6797 | 0.7437/0.7336\n",
      "Train/Val F1|MCC: 0.9534/0.9527 | 0.7463/0.7338\n"
     ]
    }
   ],
   "source": [
    "for cycle in range(20):\n",
    "    \n",
    "    _, _, _, _, _, _ = train_one_cycle(train_loader,model, criterion, optimizer,scheduler,cycle=cycle)\n",
    "\n",
    "    save_plot = (cycle+1)%5==0\n",
    "    save_plot=False\n",
    "    with torch.no_grad():\n",
    "        tr_d_bck, tr_d_arts, tr_d_veins, tr_f1, tr_mcc, tr_loss = run_one_epoch(train_loader, model, criterion, \n",
    "                                                                 optimizer=None, scheduler=None,\n",
    "                                                                 grad_acc_steps=0, assess=True, \n",
    "                                                                 save_plot=save_plot, cycle=cycle)\n",
    "        \n",
    "        vl_d_bck, vl_d_arts, vl_d_veins, vl_f1, vl_mcc, vl_loss = run_one_epoch(val_loader, model, criterion, \n",
    "                                                                 optimizer=None, scheduler=None,\n",
    "                                                                 grad_acc_steps=0, assess=True, \n",
    "                                                                 save_plot=save_plot, cycle=cycle)\n",
    "\n",
    "        \n",
    "        print('Train/Val Loss: {:.4f}/{:.4f} -- '\\\n",
    "              'per-class Train/Val DICE: {:.4f}/{:.4f} | {:.4f}/{:.4f} | {:.4f}/{:.4f}'.format(tr_loss, vl_loss,\n",
    "                                                                                     tr_d_bck, vl_d_bck,\n",
    "                                                                                     tr_d_arts, vl_d_arts,\n",
    "                                                                                     tr_d_veins, vl_d_veins))\n",
    "        print('Train/Val F1|MCC: {:.4f}/{:.4f} | {:.4f}/{:.4f}'.format(tr_f1, vl_f1, tr_mcc, vl_mcc))        "
   ]
  },
  {
   "cell_type": "code",
   "execution_count": null,
   "metadata": {
    "scrolled": true
   },
   "outputs": [],
   "source": []
  },
  {
   "cell_type": "code",
   "execution_count": null,
   "metadata": {},
   "outputs": [],
   "source": []
  },
  {
   "cell_type": "code",
   "execution_count": null,
   "metadata": {},
   "outputs": [],
   "source": []
  },
  {
   "cell_type": "code",
   "execution_count": null,
   "metadata": {},
   "outputs": [],
   "source": []
  },
  {
   "cell_type": "code",
   "execution_count": null,
   "metadata": {},
   "outputs": [],
   "source": []
  },
  {
   "cell_type": "code",
   "execution_count": null,
   "metadata": {},
   "outputs": [],
   "source": []
  },
  {
   "cell_type": "code",
   "execution_count": null,
   "metadata": {},
   "outputs": [],
   "source": []
  },
  {
   "cell_type": "code",
   "execution_count": null,
   "metadata": {},
   "outputs": [],
   "source": []
  },
  {
   "cell_type": "code",
   "execution_count": null,
   "metadata": {},
   "outputs": [],
   "source": []
  },
  {
   "cell_type": "code",
   "execution_count": null,
   "metadata": {},
   "outputs": [],
   "source": []
  }
 ],
 "metadata": {
  "kernelspec": {
   "display_name": "Python [conda env:polyps] *",
   "language": "python",
   "name": "conda-env-polyps-py"
  },
  "language_info": {
   "codemirror_mode": {
    "name": "ipython",
    "version": 3
   },
   "file_extension": ".py",
   "mimetype": "text/x-python",
   "name": "python",
   "nbconvert_exporter": "python",
   "pygments_lexer": "ipython3",
   "version": "3.6.12"
  }
 },
 "nbformat": 4,
 "nbformat_minor": 4
}
